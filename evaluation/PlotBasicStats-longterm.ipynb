{
 "cells": [
  {
   "cell_type": "code",
   "execution_count": 10,
   "metadata": {
    "autoscroll": false,
    "collapsed": true,
    "ein.tags": "worksheet-0",
    "slideshow": {
     "slide_type": "-"
    }
   },
   "outputs": [],
   "source": [
    "%matplotlib inline\n",
    "import matplotlib.pyplot as plt\n",
    "import pandas\n",
    "import numpy"
   ]
  },
  {
   "cell_type": "code",
   "execution_count": 11,
   "metadata": {
    "autoscroll": false,
    "collapsed": true,
    "ein.tags": "worksheet-0",
    "slideshow": {
     "slide_type": "-"
    }
   },
   "outputs": [],
   "source": [
    "def vocabulary_size(data, column=\"Cognate_Set\"):\n",
    "    \"\"\"Count different words in vocabulary.\"\"\"\n",
    "    return len(set(data[column]))"
   ]
  },
  {
   "cell_type": "code",
   "execution_count": 12,
   "metadata": {
    "autoscroll": false,
    "collapsed": true,
    "ein.tags": "worksheet-0",
    "slideshow": {
     "slide_type": "-"
    }
   },
   "outputs": [],
   "source": [
    "def semantic_width(data, column=\"Cognate_Set\"):\n",
    "    \"\"\"Calculate average synonym count.\n",
    "\n",
    "    Calculate the average weighted semantic width in the language\n",
    "    represented by data.\n",
    "\n",
    "    \"\"\"\n",
    "    width = 0\n",
    "    m = 0\n",
    "    for form, meanings in data.groupby(column):\n",
    "        width += meanings[\"Weight\"].sum()**2/(meanings[\"Weight\"]**2).sum()\n",
    "        m += 1\n",
    "    return width/m"
   ]
  },
  {
   "cell_type": "code",
   "execution_count": 13,
   "metadata": {
    "autoscroll": false,
    "collapsed": true,
    "ein.tags": "worksheet-0",
    "slideshow": {
     "slide_type": "-"
    }
   },
   "outputs": [],
   "source": [
    "def synonymity(data):\n",
    "    \"\"\"Calculate average synonym count.\n",
    "\n",
    "    Calculate the average weighted synonym count in the language\n",
    "    represented by data.\n",
    "\n",
    "    \"\"\"\n",
    "    return semantic_width(data, column=\"Feature_ID\")"
   ]
  },
  {
   "cell_type": "code",
   "execution_count": 14,
   "metadata": {
    "autoscroll": false,
    "collapsed": true,
    "ein.tags": "worksheet-0",
    "slideshow": {
     "slide_type": "-"
    }
   },
   "outputs": [],
   "source": [
    "try:\n",
    "    clics_words = pandas.read_csv(\"words.csv\")\n",
    "except FileNotFoundError:\n",
    "    import urllib.request\n",
    "    data = urllib.request.urlopen(\n",
    "        \"https://github.com/clics/clics-data/blob/master/data/words.csv?raw=true\")\n",
    "    clics_words = pandas.read_csv(data)\n",
    "\n",
    "clics_words[\"Weight\"] = 1\n",
    "\n",
    "clics_vocabulary = []\n",
    "clics_semantic_width = []\n",
    "clics_synonymity = []\n",
    "for language, words in clics_words.groupby(\"LanguageId\"):\n",
    "    clics_vocabulary.append(vocabulary_size(words, \"ClicsValue\"))\n",
    "    clics_semantic_width.append(semantic_width(words, \"ClicsValue\"))\n",
    "    clics_synonymity.append(semantic_width(words, \"ConcepticonGloss\"))"
   ]
  },
  {
   "cell_type": "code",
   "execution_count": 23,
   "metadata": {
    "autoscroll": false,
    "collapsed": true,
    "ein.tags": "worksheet-0",
    "slideshow": {
     "slide_type": "-"
    }
   },
   "outputs": [],
   "source": [
    "path = \"../evenmorerobustness/\"\n",
    "\n",
    "def condition(file):\n",
    "    x = file.startswith(\"trivial_long\") and file.endswith(\".tsv\")\n",
    "    x &= (\"_ipoisson100\" in file or \"_id199\" in file or \"_i100\" in file) \n",
    "    #x &= \"_id10\" in file\n",
    "    x &= \"_n\" not in file\n",
    "    x &= \"_c\" not in file or \"_cdegree_squared\" in file\n",
    "    return x"
   ]
  },
  {
   "cell_type": "code",
   "execution_count": 24,
   "metadata": {
    "autoscroll": false,
    "ein.tags": "worksheet-0",
    "slideshow": {
     "slide_type": "-"
    }
   },
   "outputs": [
    {
     "name": "stdout",
     "output_type": "stream",
     "text": [
      "trivial_long_branch_03_id199.tsv\n",
      "trivial_long_branch_3_ipoisson100.tsv\n",
      "trivial_long_branch_3_id199.tsv\n",
      "trivial_long_branch_3_i100.tsv\n",
      "trivial_long_branch_84_i100.tsv\n",
      "trivial_long_branch_4_i100.tsv\n",
      "trivial_long_branch_14_i100.tsv\n",
      "trivial_long_branch_06_i100.tsv\n",
      "trivial_long_branch_800_id199.tsv\n",
      "trivial_long_branch_801_id199.tsv\n",
      "trivial_long_branch_802_id199.tsv\n",
      "trivial_long_branch_804_id199.tsv\n",
      "trivial_long_branch_805_id199.tsv\n",
      "trivial_long_branch_80_i100.tsv\n",
      "trivial_long_branch_80_id199_cdegree_squared.tsv\n",
      "trivial_long_branch_80_id199.tsv\n",
      "trivial_long_branch_80_ipoisson100.tsv\n",
      "trivial_long_branch_81_i100.tsv\n",
      "trivial_long_branch_81_id199_cdegree_squared.tsv\n",
      "trivial_long_branch_81_id199.tsv\n",
      "trivial_long_branch_81_ipoisson100.tsv\n",
      "trivial_long_branch_82_i100.tsv\n",
      "trivial_long_branch_82_id199.tsv\n",
      "trivial_long_branch_82_ipoisson100.tsv\n",
      "trivial_long_branch_84_id199.tsv\n",
      "trivial_long_branch_3_id199_cdegree_squared.tsv\n",
      "trivial_long_branch_04_id199.tsv\n",
      "trivial_long_branch_4_ipoisson100.tsv\n",
      "trivial_long_branch_4_id199.tsv\n",
      "trivial_long_branch_00_id199.tsv\n",
      "trivial_long_branch_01_id199.tsv\n",
      "trivial_long_branch_02_id199.tsv\n",
      "trivial_long_branch_05_id199.tsv\n",
      "trivial_long_branch_0_i100.tsv\n",
      "trivial_long_branch_0_id199_cdegree_squared.tsv\n",
      "trivial_long_branch_0_id199.tsv\n",
      "trivial_long_branch_0_ipoisson100.tsv\n",
      "trivial_long_branch_1_i100.tsv\n",
      "trivial_long_branch_1_id199_cdegree_squared.tsv\n",
      "trivial_long_branch_1_id199.tsv\n",
      "trivial_long_branch_1_ipoisson100.tsv\n",
      "trivial_long_branch_2_i100.tsv\n",
      "trivial_long_branch_2_id199_cdegree_squared.tsv\n",
      "trivial_long_branch_2_id199.tsv\n",
      "trivial_long_branch_2_ipoisson100.tsv\n",
      "trivial_long_branch_064_id199.tsv\n",
      "trivial_long_branch_64_i100.tsv\n",
      "trivial_long_branch_64_id199.tsv\n"
     ]
    },
    {
     "name": "stderr",
     "output_type": "stream",
     "text": [
      "/usr/lib/python3/dist-packages/numpy/core/_methods.py:59: RuntimeWarning: Mean of empty slice.\n",
      "  warnings.warn(\"Mean of empty slice.\", RuntimeWarning)\n",
      "/usr/lib/python3/dist-packages/numpy/core/_methods.py:70: RuntimeWarning: invalid value encountered in double_scalars\n",
      "  ret = ret.dtype.type(ret / rcount)\n",
      "/usr/lib/python3/dist-packages/numpy/core/_methods.py:82: RuntimeWarning: Degrees of freedom <= 0 for slice\n",
      "  warnings.warn(\"Degrees of freedom <= 0 for slice\", RuntimeWarning)\n",
      "/usr/lib/python3/dist-packages/numpy/core/_methods.py:94: RuntimeWarning: invalid value encountered in true_divide\n",
      "  arrmean, rcount, out=arrmean, casting='unsafe', subok=False)\n",
      "/usr/lib/python3/dist-packages/numpy/core/_methods.py:116: RuntimeWarning: invalid value encountered in double_scalars\n",
      "  ret = ret.dtype.type(ret / rcount)\n"
     ]
    },
    {
     "name": "stdout",
     "output_type": "stream",
     "text": [
      "Clics: nan±nan\n",
      "Simulation: 1246.0±27.1\n"
     ]
    },
    {
     "data": {
      "image/png": "[encoded data removed]",
      "text/plain": [
       "<matplotlib.figure.Figure at 0x7f631fa7da90>"
      ]
     },
     "metadata": {},
     "output_type": "display_data"
    }
   ],
   "source": [
    "import os\n",
    "n = {}\n",
    "for file in os.listdir(path):\n",
    "    if condition(file):\n",
    "        print(file)\n",
    "        all_data = pandas.read_csv(\n",
    "            os.path.join(path, file),\n",
    "            sep=\"\\t\",\n",
    "            na_values=[\"\"],\n",
    "            keep_default_na=False,\n",
    "            encoding='utf-8')\n",
    "\n",
    "        for language_id, language_data in all_data.groupby(\"Language_ID\"):\n",
    "            n.setdefault(int(language_id), []).append(vocabulary_size(language_data))\n",
    "\n",
    "plt.boxplot(list(n.values()), positions=list(n.keys()), widths=[i/2 for i in n.keys()], manage_xticks=False)\n",
    "\n",
    "plt.plot([1, 2*1048576], [1284, 1284], '0.8', label=\"Root #Words\")\n",
    "\n",
    "plt.xlabel(\"time steps $t$\")\n",
    "plt.gca().set_xscale('log')\n",
    "plt.ylabel(\"Vocabulary size\")\n",
    "print(\"Clics: {:0.1f}±{:0.1f}\".format(\n",
    "    numpy.mean(clics_vocabulary), numpy.std(clics_vocabulary)))\n",
    "stable = numpy.array(sum([n[2**i] for i in range(23, 27)], []))\n",
    "print(\"Simulation: {:0.1f}±{:0.1f}\".format(stable.mean(), stable.std()))\n",
    "plt.gcf().set_size_inches(5,4)\n",
    "plt.savefig(\"vocabularysize_timesteps.pdf\")\n"
   ]
  },
  {
   "cell_type": "code",
   "execution_count": 17,
   "metadata": {
    "autoscroll": false,
    "ein.tags": "worksheet-0",
    "slideshow": {
     "slide_type": "-"
    }
   },
   "outputs": [
    {
     "data": {
      "text/plain": [
       "[1228,\n",
       " 1286,\n",
       " 1284,\n",
       " 1243,\n",
       " 1220,\n",
       " 1224,\n",
       " 1230,\n",
       " 1231,\n",
       " 1270,\n",
       " 1240,\n",
       " 1224,\n",
       " 1220,\n",
       " 1228,\n",
       " 1230]"
      ]
     },
     "execution_count": 17,
     "metadata": {},
     "output_type": "execute_result"
    }
   ],
   "source": [
    "n[16777216]"
   ]
  },
  {
   "cell_type": "code",
   "execution_count": 37,
   "metadata": {
    "autoscroll": false,
    "ein.tags": "worksheet-0",
    "scrolled": false,
    "slideshow": {
     "slide_type": "-"
    }
   },
   "outputs": [
    {
     "name": "stdout",
     "output_type": "stream",
     "text": [
      "trivial_long_branch_03_id199.tsv\n"
     ]
    },
    {
     "name": "stderr",
     "output_type": "stream",
     "text": [
      "/usr/lib/python3/dist-packages/numpy/lib/function_base.py:2558: RuntimeWarning: invalid value encountered in true_divide\n",
      "  c /= stddev[:, None]\n",
      "/usr/lib/python3/dist-packages/numpy/lib/function_base.py:2559: RuntimeWarning: invalid value encountered in true_divide\n",
      "  c /= stddev[None, :]\n"
     ]
    },
    {
     "name": "stdout",
     "output_type": "stream",
     "text": [
      "trivial_long_branch_3_ipoisson100.tsv\n",
      "trivial_long_branch_3_id199.tsv\n",
      "trivial_long_branch_3_i100.tsv\n",
      "trivial_long_branch_84_i100.tsv\n",
      "trivial_long_branch_4_i100.tsv\n",
      "trivial_long_branch_14_i100.tsv\n",
      "trivial_long_branch_06_i100.tsv\n",
      "trivial_long_branch_800_id199.tsv\n",
      "trivial_long_branch_801_id199.tsv\n",
      "trivial_long_branch_802_id199.tsv\n",
      "trivial_long_branch_804_id199.tsv\n",
      "trivial_long_branch_805_id199.tsv\n",
      "trivial_long_branch_80_i100.tsv\n",
      "trivial_long_branch_80_id199_cdegree_squared.tsv\n",
      "trivial_long_branch_80_id199.tsv\n",
      "trivial_long_branch_80_ipoisson100.tsv\n",
      "trivial_long_branch_81_i100.tsv\n",
      "trivial_long_branch_81_id199_cdegree_squared.tsv\n",
      "trivial_long_branch_81_id199.tsv\n",
      "trivial_long_branch_81_ipoisson100.tsv\n",
      "trivial_long_branch_82_i100.tsv\n",
      "trivial_long_branch_82_id199.tsv\n",
      "trivial_long_branch_82_ipoisson100.tsv\n",
      "trivial_long_branch_84_id199.tsv\n",
      "trivial_long_branch_3_id199_cdegree_squared.tsv\n",
      "trivial_long_branch_04_id199.tsv\n",
      "trivial_long_branch_4_ipoisson100.tsv\n",
      "trivial_long_branch_4_id199.tsv\n",
      "trivial_long_branch_00_id199.tsv\n",
      "trivial_long_branch_01_id199.tsv\n",
      "trivial_long_branch_02_id199.tsv\n",
      "trivial_long_branch_05_id199.tsv\n",
      "trivial_long_branch_0_i100.tsv\n",
      "trivial_long_branch_0_id199_cdegree_squared.tsv\n",
      "trivial_long_branch_0_id199.tsv\n",
      "trivial_long_branch_0_ipoisson100.tsv\n",
      "trivial_long_branch_1_i100.tsv\n",
      "trivial_long_branch_1_id199_cdegree_squared.tsv\n",
      "trivial_long_branch_1_id199.tsv\n",
      "trivial_long_branch_1_ipoisson100.tsv\n",
      "trivial_long_branch_2_i100.tsv\n",
      "trivial_long_branch_2_id199_cdegree_squared.tsv\n",
      "trivial_long_branch_2_id199.tsv\n",
      "trivial_long_branch_2_ipoisson100.tsv\n",
      "trivial_long_branch_064_id199.tsv\n",
      "trivial_long_branch_64_i100.tsv\n",
      "trivial_long_branch_64_id199.tsv\n",
      "trivial_long_branch_6_i100.tsv\n",
      "Synonymity\n",
      "Polysemy\n"
     ]
    },
    {
     "data": {
      "image/png": "[encoded data removed]",
      "text/plain": [
       "<matplotlib.figure.Figure at 0x7f631face4e0>"
      ]
     },
     "metadata": {},
     "output_type": "display_data"
    }
   ],
   "source": [
    "import os\n",
    "n = {}\n",
    "c = {}\n",
    "p = {}\n",
    "for file in os.listdir(path):\n",
    "    if condition(file):\n",
    "        all_data = pandas.read_csv(\n",
    "            os.path.join(path, file),\n",
    "            sep=\"\\t\",\n",
    "            na_values=[\"\"],\n",
    "            keep_default_na=False,\n",
    "            encoding='utf-8')\n",
    "\n",
    "        print(file)\n",
    "        for language_id, language_data in all_data.groupby(\"Language_ID\"):\n",
    "            n.setdefault(int(language_id), []).append(synonymity(language_data))\n",
    "            \n",
    "            sum_width = 0\n",
    "            m = 0\n",
    "            accs, widths = [], []\n",
    "            for form, meanings in language_data.groupby(\"Cognate_Set\"):\n",
    "                width = meanings[\"Weight\"].sum()**2/(meanings[\"Weight\"]**2).sum()\n",
    "                accs.append(meanings[\"Weight\"].sum())\n",
    "                widths.append(width)\n",
    "                sum_width += width\n",
    "                m += 1\n",
    "            c.setdefault(int(language_id), []).append(numpy.corrcoef(accs, widths)[1, 0])\n",
    "            p.setdefault(int(language_id), []).append(sum_width/m)\n",
    "\n",
    "plt.boxplot(list(n.values()), positions=list(n.keys()), widths=[i/2 for i in n.keys()], manage_xticks=False)\n",
    "plt.boxplot(list(p.values()), positions=list(p.keys()), widths=[i/2 for i in p.keys()], manage_xticks=False,\n",
    "               boxprops=dict(color='blue'), medianprops=dict(color='red'))\n",
    "\n",
    "plt.plot([1, 2*1048576], [1, 1], '0.8')\n",
    "\n",
    "plt.plot([0,0],[1,1],c='red',label=\"Polysemy\")\n",
    "plt.plot([0,0],[1,1],c='orange',label=\"Synonymity\")\n",
    "plt.xlabel(\"time steps $t$\")\n",
    "plt.gca().set_xscale('log')\n",
    "plt.ylabel(\"Average Polysemy/Synonymity\")\n",
    "plt.legend()\n",
    "print(\"Synonymity\")\n",
    "#print(\"Clics: {:0.1f}±{:0.1f}\".format(\n",
    "#    numpy.mean(clics_synonymity), numpy.std(clics_synonymity)))\n",
    "stable = numpy.array([n[2**i] for i in range(20, 22)])\n",
    "# print(\"Simulation: {:0.1f}±{:0.1f}\".format(stable.mean(), stable.std()))\n",
    "print(\"Polysemy\")\n",
    "# print(\"Clics: {:0.1f}±{:0.1f}\".format(\n",
    "#    numpy.mean(clics_semantic_width), numpy.std(clics_semantic_width)))\n",
    "stable = numpy.array([p[2**i] for i in range(20, 22)])\n",
    "#print(\"Simulation: {:0.1f}±{:0.1f}\".format(stable.mean(), stable.std()))\n",
    "plt.gcf().set_size_inches(5,4)\n",
    "plt.savefig(\"synonymitypolysemy_timesteps.pdf\")\n"
   ]
  },
  {
   "cell_type": "code",
   "execution_count": 34,
   "metadata": {
    "autoscroll": false,
    "ein.tags": "worksheet-0",
    "slideshow": {
     "slide_type": "-"
    }
   },
   "outputs": [
    {
     "name": "stderr",
     "output_type": "stream",
     "text": [
      "/usr/lib/python3/dist-packages/numpy/lib/function_base.py:3823: RuntimeWarning: Invalid value encountered in percentile\n",
      "  RuntimeWarning)\n",
      "/vol/home/kaipingga/.local/lib/python3.5/site-packages/matplotlib/cbook.py:2066: RuntimeWarning: invalid value encountered in less_equal\n",
      "  wiskhi = np.compress(x <= hival, x)\n",
      "/vol/home/kaipingga/.local/lib/python3.5/site-packages/matplotlib/cbook.py:2073: RuntimeWarning: invalid value encountered in greater_equal\n",
      "  wisklo = np.compress(x >= loval, x)\n",
      "/vol/home/kaipingga/.local/lib/python3.5/site-packages/matplotlib/cbook.py:2081: RuntimeWarning: invalid value encountered in less\n",
      "  np.compress(x < stats['whislo'], x),\n",
      "/vol/home/kaipingga/.local/lib/python3.5/site-packages/matplotlib/cbook.py:2082: RuntimeWarning: invalid value encountered in greater\n",
      "  np.compress(x > stats['whishi'], x)\n",
      "/vol/home/kaipingga/.local/lib/python3.5/site-packages/matplotlib/axes/_axes.py:545: UserWarning: No labelled objects found. Use label='...' kwarg on individual plots.\n",
      "  warnings.warn(\"No labelled objects found. \"\n"
     ]
    },
    {
     "data": {
      "image/png": "[encoded data removed]",
      "text/plain": [
       "<matplotlib.figure.Figure at 0x7f631f895da0>"
      ]
     },
     "metadata": {},
     "output_type": "display_data"
    }
   ],
   "source": [
    "plt.boxplot(list(c.values()), positions=list(c.keys()), widths=[i/2 for i in c.keys()], manage_xticks=False)\n",
    "\n",
    "plt.xlabel(\"time steps $t$\")\n",
    "plt.gca().set_xscale('log')\n",
    "plt.ylabel(\"Correlation between semantic width and accessibility\")\n",
    "plt.legend()\n",
    "\n",
    "plt.gcf().set_size_inches(5,4)\n",
    "plt.savefig(\"correlation_timesteps.pdf\")\n"
   ]
  }
 ],
 "metadata": {
  "kernelspec": {
   "display_name": "Python 3",
   "language": "python",
   "name": "python3"
  },
  "language_info": {
   "codemirror_mode": {
    "name": "ipython",
    "version": 3
   },
   "file_extension": ".py",
   "mimetype": "text/x-python",
   "name": "python",
   "nbconvert_exporter": "python",
   "pygments_lexer": "ipython3",
   "version": "3.5.2"
  },
  "name": "PlotBasicStats-longterm.ipynb"
 },
 "nbformat": 4,
 "nbformat_minor": 2
}
