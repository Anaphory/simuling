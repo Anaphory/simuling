{
 "cells": [
  {
   "cell_type": "code",
   "execution_count": 1,
   "metadata": {
    "autoscroll": false,
    "ein.tags": "worksheet-0",
    "slideshow": {
     "slide_type": "-"
    }
   },
   "outputs": [],
   "source": [
    "%matplotlib inline\n",
    "import matplotlib.pyplot as plt\n",
    "import pandas\n",
    "import numpy"
   ]
  },
  {
   "cell_type": "code",
   "execution_count": 2,
   "metadata": {
    "autoscroll": false,
    "ein.tags": "worksheet-0",
    "slideshow": {
     "slide_type": "-"
    }
   },
   "outputs": [],
   "source": [
    "def vocabulary_size(data, column=\"Cognate_Set\"):\n",
    "    \"\"\"Count different words in vocabulary.\"\"\"\n",
    "    return len(set(data[column]))"
   ]
  },
  {
   "cell_type": "code",
   "execution_count": 3,
   "metadata": {
    "autoscroll": false,
    "ein.tags": "worksheet-0",
    "slideshow": {
     "slide_type": "-"
    }
   },
   "outputs": [
    {
     "name": "stdout",
     "output_type": "stream",
     "text": [
      "Concept list length: 400\n"
     ]
    }
   ],
   "source": [
    "from plotter import semantic_width, synonymity"
   ]
  },
  {
   "cell_type": "code",
   "execution_count": 4,
   "metadata": {
    "autoscroll": false,
    "ein.tags": "worksheet-0",
    "slideshow": {
     "slide_type": "-"
    }
   },
   "outputs": [],
   "source": [
    "try:\n",
    "    clics_words = pandas.read_csv(\"words.csv\")\n",
    "except FileNotFoundError:\n",
    "    import urllib.request\n",
    "    data = urllib.request.urlopen(\n",
    "        \"https://github.com/clics/clics-data/blob/master/data/words.csv?raw=true\")\n",
    "    clics_words = pandas.read_csv(data)\n",
    "\n",
    "clics_words[\"Weight\"] = 1\n",
    "\n",
    "clics_vocabulary = []\n",
    "clics_semantic_width = []\n",
    "clics_synonymity = []\n",
    "for language, words in clics_words.groupby(\"LanguageId\"):\n",
    "    clics_vocabulary.append(vocabulary_size(words, \"ClicsValue\"))\n",
    "    clics_semantic_width.append(semantic_width(words, \"ClicsValue\"))\n",
    "    clics_synonymity.append(semantic_width(words, \"ConcepticonGloss\"))"
   ]
  },
  {
   "cell_type": "code",
   "execution_count": 5,
   "metadata": {
    "autoscroll": false,
    "ein.tags": "worksheet-0",
    "slideshow": {
     "slide_type": "-"
    }
   },
   "outputs": [],
   "source": [
    "path = \"../\"\n",
    "\n",
    "def condition(file):\n",
    "    if not (file.startswith(\"trivial_long_\") and file.endswith(\".csv\")):\n",
    "        return False\n",
    "    x = True\n",
    "    properties = {s[0]: s[1:] for s in file[13:-4].split(\"_\")}\n",
    "    x &= properties.get(\"i\", \"100\") in [\"poisson100\", \"d199\", \"100\"] \n",
    "    x &= float(properties.get(\"n\", 0.004)) == 0.004\n",
    "    x &= float(properties.get(\"w\", 2)) == 2\n",
    "    x &= properties.get(\"c\", \"degree_squared\") == \"degree_squared\"\n",
    "    return x"
   ]
  },
  {
   "cell_type": "code",
   "execution_count": 6,
   "metadata": {
    "autoscroll": false,
    "ein.tags": "worksheet-0",
    "slideshow": {
     "slide_type": "-"
    }
   },
   "outputs": [
    {
     "name": "stderr",
     "output_type": "stream",
     "text": [
      "/usr/lib/python3.6/site-packages/numpy/core/fromnumeric.py:2957: RuntimeWarning: Mean of empty slice.\n",
      "  out=out, **kwargs)\n",
      "/usr/lib/python3.6/site-packages/numpy/core/_methods.py:80: RuntimeWarning: invalid value encountered in double_scalars\n",
      "  ret = ret.dtype.type(ret / rcount)\n",
      "/usr/lib/python3.6/site-packages/numpy/core/_methods.py:135: RuntimeWarning: Degrees of freedom <= 0 for slice\n",
      "  keepdims=keepdims)\n",
      "/usr/lib/python3.6/site-packages/numpy/core/_methods.py:105: RuntimeWarning: invalid value encountered in true_divide\n",
      "  arrmean, rcount, out=arrmean, casting='unsafe', subok=False)\n",
      "/usr/lib/python3.6/site-packages/numpy/core/_methods.py:127: RuntimeWarning: invalid value encountered in double_scalars\n",
      "  ret = ret.dtype.type(ret / rcount)\n"
     ]
    },
    {
     "name": "stdout",
     "output_type": "stream",
     "text": [
      "Clics: nan±nan\n",
      "Simulation: 1382.0±26.9\n"
     ]
    },
    {
     "data": {
      "image/png": "[encoded data removed]",
      "text/plain": [
       "<matplotlib.figure.Figure at 0x7fae758d7438>"
      ]
     },
     "metadata": {},
     "output_type": "display_data"
    }
   ],
   "source": [
    "import os\n",
    "n = {}\n",
    "for file in os.listdir(path):\n",
    "    if condition(file):\n",
    "        all_data = pandas.read_csv(\n",
    "            os.path.join(path, file),\n",
    "            sep=\",\",\n",
    "            na_values=[\"\"],\n",
    "            keep_default_na=False,\n",
    "            encoding='utf-8')\n",
    "\n",
    "        for language_id, language_data in all_data.groupby(\"Language_ID\"):\n",
    "            n.setdefault(int(language_id), []).append(vocabulary_size(language_data))\n",
    "\n",
    "plt.boxplot(list(n.values()), positions=list(n.keys()), widths=[i/2 for i in n.keys()], manage_xticks=False)\n",
    "\n",
    "plt.plot([1, 2*1048576], [1284, 1284], '0.8', label=\"Root #Words\")\n",
    "\n",
    "plt.xlabel(\"time steps $t$\")\n",
    "plt.gca().set_xscale('log')\n",
    "plt.ylabel(\"Vocabulary size\")\n",
    "print(\"Clics: {:0.1f}±{:0.1f}\".format(\n",
    "    numpy.mean(clics_vocabulary), numpy.std(clics_vocabulary)))\n",
    "stable = numpy.array(sum([n.get(2**i, []) for i in range(23, 27)], []))\n",
    "print(\"Simulation: {:0.1f}±{:0.1f}\".format(stable.mean(), stable.std()))\n",
    "plt.gcf().set_size_inches(5,4)\n",
    "plt.savefig(\"vocabularysize_timesteps.pdf\")\n"
   ]
  },
  {
   "cell_type": "code",
   "execution_count": 7,
   "metadata": {
    "autoscroll": false,
    "ein.tags": "worksheet-0",
    "slideshow": {
     "slide_type": "-"
    }
   },
   "outputs": [
    {
     "data": {
      "text/plain": [
       "[1413,\n",
       " 1430,\n",
       " 1414,\n",
       " 1399,\n",
       " 1395,\n",
       " 1398,\n",
       " 1427,\n",
       " 1399,\n",
       " 1479,\n",
       " 1386,\n",
       " 1457,\n",
       " 1394,\n",
       " 1414,\n",
       " 1433,\n",
       " 1474,\n",
       " 1417,\n",
       " 1401,\n",
       " 1386,\n",
       " 1375,\n",
       " 1430,\n",
       " 1415,\n",
       " 1425,\n",
       " 1383,\n",
       " 1397,\n",
       " 1422,\n",
       " 1413,\n",
       " 1399,\n",
       " 1413]"
      ]
     },
     "execution_count": 7,
     "metadata": {},
     "output_type": "execute_result"
    }
   ],
   "source": [
    "n[2**22]"
   ]
  },
  {
   "cell_type": "code",
   "execution_count": 8,
   "metadata": {
    "autoscroll": false,
    "ein.tags": "worksheet-0",
    "scrolled": false,
    "slideshow": {
     "slide_type": "-"
    }
   },
   "outputs": [
    {
     "name": "stdout",
     "output_type": "stream",
     "text": [
      "trivial_long_branch10b6_r3_id199_w2.000000_n0.004.csv\n"
     ]
    },
    {
     "name": "stderr",
     "output_type": "stream",
     "text": [
      "/usr/lib/python3.6/site-packages/numpy/lib/function_base.py:3183: RuntimeWarning: invalid value encountered in true_divide\n",
      "  c /= stddev[:, None]\n",
      "/usr/lib/python3.6/site-packages/numpy/lib/function_base.py:3184: RuntimeWarning: invalid value encountered in true_divide\n",
      "  c /= stddev[None, :]\n"
     ]
    },
    {
     "name": "stdout",
     "output_type": "stream",
     "text": [
      "trivial_long_branch3052_r-2_i100_w2_n0.004.csv\n",
      "trivial_long_branche95a_r-5_i100_w2_n0.004.csv\n",
      "trivial_long_branche95a_r-6_i100_w2_n0.004.csv\n",
      "trivial_long_branche95a_r-5_id199_w2.000000_n0.004.csv\n",
      "trivial_long_branchbc06_r4_i100_w2_n0.004.csv\n",
      "trivial_long_branch5eb6_r4_i100_w2_n0.004.csv\n",
      "trivial_long_branche95b_r-3_i100_w2_n0.004.csv\n",
      "trivial_long_branchc677_r4_i100_w2_n0.004.csv\n",
      "trivial_long_branch117c_r3_id199_w2.000000_n0.004.csv\n",
      "trivial_long_branch57b1_r2_i100_w2_n0.004.csv\n",
      "trivial_long_branch3053_r-1_i100_w2_n0.004.csv\n",
      "trivial_long_branch1362_r5_id199_w2.000000_n0.004.csv\n",
      "trivial_long_branch10b7_r3_i100_w2_n0.004.csv\n",
      "trivial_long_branche95a_r-5_id199_w2_n0.004000.csv\n",
      "trivial_long_branch3052_r-1_i100_w2_n0.004.csv\n",
      "trivial_long_branche95a_r-6_id199_w2_n0.004000.csv\n",
      "trivial_long_brancha92d_r4_i100_w2_n0.004.csv\n",
      "trivial_long_branch5eb5_r4_id199_w2.000000_n0.004.csv\n",
      "trivial_long_brancha817_r4_i100_w2_n0.004.csv\n",
      "trivial_long_branchb9f3_r4_i100_w2_n0.004.csv\n",
      "trivial_long_branche95a_r-3_i100_w2_n0.004.csv\n",
      "trivial_long_branch117d_r3_i100_w2_n0.004.csv\n",
      "trivial_long_branchc676_r4_id199_w2.000000_n0.004.csv\n",
      "trivial_long_branch5f33_r4_i100_w2_n0.004.csv\n",
      "trivial_long_branchb9f3_r4_id199_w2.000000_n0.004.csv\n",
      "trivial_long_branch57b0_r2_id199_w2.000000_n0.004.csv\n",
      "trivial_long_branch3053_r-2_i100_w2_n0.004.csv\n",
      "trivial_long_branch77eb_r4_i100_w2_n0.004.csv\n",
      "trivial_long_branche95a_r-4_i100_w2_n0.004.csv\n",
      "trivial_long_brancheed2_r3_i100_w2_n0.004.csv\n",
      "trivial_long_branche95a_r-4_id199_w2_n0.004000.csv\n",
      "trivial_long_brancheed2_r3_id199_w2.000000_n0.004.csv\n",
      "trivial_long_branche95a_r-3_id199_w2.000000_n0.004.csv\n",
      "trivial_long_branch3052_r-2_id199_w2.000000_n0.004.csv\n",
      "trivial_long_branch87ff_r4_i100_w2_n0.004.csv\n",
      "trivial_long_branchfc9b_r5_i100_w2_n0.004.csv\n",
      "trivial_long_branch117c_r3_i100_w2_n0.004.csv\n",
      "trivial_long_branch10b6_r3_id199_w2_n0.004.csv\n",
      "trivial_long_branchfa9c_r4_i100_w2_n0.004.csv\n",
      "trivial_long_brancha24e_r4_i100_w2_n0.004.csv\n",
      "trivial_long_branch228f_r6_i100_w2_n0.004.csv\n",
      "trivial_long_branchf060_r4_i100_w2_n0.004.csv\n",
      "trivial_long_branchb9f4_r4_i100_w2_n0.004.csv\n",
      "trivial_long_branchf355_r4_i100_w2_n0.004.csv\n",
      "trivial_long_branche95b_r-5_i100_w2_n0.004.csv\n",
      "trivial_long_branche95a_r-4_id199_w2.000000_n0.004.csv\n",
      "trivial_long_branch10b6_r3_ipoisson100_w2_n0.004.csv\n",
      "trivial_long_branch81a7_r4_i100_w2_n0.004.csv\n",
      "trivial_long_branch77ea_r4_id199_w2_n0.004000.csv\n",
      "trivial_long_branchbcb8_r4_i100_w2_n0.004.csv\n",
      "trivial_long_branch10b6_r3_i100_w2_n0.004.csv\n",
      "trivial_long_branche95a_r-3_id199_w2_n0.004000.csv\n",
      "trivial_long_branch3052_r-2_id199_w2_n0.004000.csv\n",
      "trivial_long_branche95a_r-6_id199_w2.000000_n0.004.csv\n",
      "trivial_long_branchf061_r4_i100_w2_n0.004.csv\n",
      "trivial_long_branche95b_r-6_i100_w2_n0.004.csv\n",
      "trivial_long_brancheed3_r3_i100_w2_n0.004.csv\n",
      "trivial_long_branch1363_r5_i100_w2_n0.004.csv\n",
      "trivial_long_branchf5dd_r5_id199_w2.000000_n0.004.csv\n",
      "trivial_long_branch3052_r-1_id199_w2_n0.004000.csv\n",
      "trivial_long_branchf5de_r5_i100_w2_n0.004.csv\n",
      "trivial_long_branch5f32_r4_id199_w2.000000_n0.004.csv\n",
      "trivial_long_branch3052_r-1_id199_w2.000000_n0.004.csv\n",
      "trivial_long_branchbc05_r4_ipoisson100_w2_n0.004.csv\n",
      "trivial_long_branche95b_r-4_i100_w2_n0.004.csv\n",
      "trivial_long_branch423e_r4_i100_w2_n0.004.csv\n",
      "trivial_long_branch87fe_r4_id199_w2.000000_n0.004.csv\n",
      "Synonymity\n",
      "Polysemy\n"
     ]
    },
    {
     "data": {
      "image/png": "[encoded data removed]",
      "text/plain": [
       "<matplotlib.figure.Figure at 0x7fae75440a58>"
      ]
     },
     "metadata": {},
     "output_type": "display_data"
    }
   ],
   "source": [
    "import os\n",
    "n = {}\n",
    "c = {}\n",
    "p = {}\n",
    "for file in os.listdir(path):\n",
    "    if condition(file):\n",
    "        all_data = pandas.read_csv(\n",
    "            os.path.join(path, file),\n",
    "            sep=\",\",\n",
    "            na_values=[\"\"],\n",
    "            keep_default_na=False,\n",
    "            encoding='utf-8')\n",
    "\n",
    "        print(file)\n",
    "        for language_id, language_data in all_data.groupby(\"Language_ID\"):\n",
    "            n.setdefault(int(language_id), []).append(synonymity(language_data))\n",
    "            \n",
    "            sum_width = 0\n",
    "            m = 0\n",
    "            accs, widths = [], []\n",
    "            for form, meanings in language_data.groupby(\"Cognate_Set\"):\n",
    "                width = meanings[\"Weight\"].sum()**2/(meanings[\"Weight\"]**2).sum()\n",
    "                accs.append(meanings[\"Weight\"].sum())\n",
    "                widths.append(width)\n",
    "                sum_width += width\n",
    "                m += 1\n",
    "            c.setdefault(int(language_id), []).append(numpy.corrcoef(accs, widths)[1, 0])\n",
    "            p.setdefault(int(language_id), []).append(sum_width/m)\n",
    "\n",
    "plt.boxplot(list(n.values()), positions=list(n.keys()), widths=[i/2 for i in n.keys()], manage_xticks=False)\n",
    "plt.boxplot(list(p.values()), positions=list(p.keys()), widths=[i/2 for i in p.keys()], manage_xticks=False,\n",
    "               boxprops=dict(color='blue'), medianprops=dict(color='red'))\n",
    "\n",
    "plt.plot([1, 2*1048576], [1, 1], '0.8')\n",
    "\n",
    "plt.plot([0,0],[1,1],c='red',label=\"Polysemy\")\n",
    "plt.plot([0,0],[1,1],c='orange',label=\"Synonymity\")\n",
    "plt.xlabel(\"time steps $t$\")\n",
    "plt.gca().set_xscale('log')\n",
    "plt.ylabel(\"Average Polysemy/Synonymity\")\n",
    "plt.legend()\n",
    "print(\"Synonymity\")\n",
    "#print(\"Clics: {:0.1f}±{:0.1f}\".format(\n",
    "#    numpy.mean(clics_synonymity), numpy.std(clics_synonymity)))\n",
    "stable = numpy.array([n[2**i] for i in range(20, 22)])\n",
    "# print(\"Simulation: {:0.1f}±{:0.1f}\".format(stable.mean(), stable.std()))\n",
    "print(\"Polysemy\")\n",
    "# print(\"Clics: {:0.1f}±{:0.1f}\".format(\n",
    "#    numpy.mean(clics_semantic_width), numpy.std(clics_semantic_width)))\n",
    "stable = numpy.array([p[2**i] for i in range(20, 22)])\n",
    "#print(\"Simulation: {:0.1f}±{:0.1f}\".format(stable.mean(), stable.std()))\n",
    "plt.gcf().set_size_inches(5,4)\n",
    "plt.savefig(\"synonymitypolysemy_timesteps.pdf\")\n"
   ]
  },
  {
   "cell_type": "code",
   "execution_count": 9,
   "metadata": {
    "autoscroll": false,
    "ein.tags": "worksheet-0",
    "scrolled": true,
    "slideshow": {
     "slide_type": "-"
    }
   },
   "outputs": [
    {
     "name": "stderr",
     "output_type": "stream",
     "text": [
      "/usr/lib/python3.6/site-packages/numpy/lib/function_base.py:4291: RuntimeWarning: Invalid value encountered in percentile\n",
      "  interpolation=interpolation)\n",
      "/usr/lib/python3.6/site-packages/matplotlib/cbook/__init__.py:1856: RuntimeWarning: invalid value encountered in less_equal\n",
      "  wiskhi = np.compress(x <= hival, x)\n",
      "/usr/lib/python3.6/site-packages/matplotlib/cbook/__init__.py:1863: RuntimeWarning: invalid value encountered in greater_equal\n",
      "  wisklo = np.compress(x >= loval, x)\n",
      "/usr/lib/python3.6/site-packages/matplotlib/cbook/__init__.py:1871: RuntimeWarning: invalid value encountered in less\n",
      "  np.compress(x < stats['whislo'], x),\n",
      "/usr/lib/python3.6/site-packages/matplotlib/cbook/__init__.py:1872: RuntimeWarning: invalid value encountered in greater\n",
      "  np.compress(x > stats['whishi'], x)\n",
      "No handles with labels found to put in legend.\n"
     ]
    },
    {
     "data": {
      "image/png": "[encoded data removed]",
      "text/plain": [
       "<matplotlib.figure.Figure at 0x7fae757f4438>"
      ]
     },
     "metadata": {},
     "output_type": "display_data"
    }
   ],
   "source": [
    "plt.boxplot(list(c.values()), positions=list(c.keys()), widths=[i/2 for i in c.keys()], manage_xticks=False)\n",
    "\n",
    "plt.xlabel(\"time steps $t$\")\n",
    "plt.gca().set_xscale('log')\n",
    "plt.ylabel(\"Correlation between semantic width and accessibility\")\n",
    "plt.legend()\n",
    "\n",
    "plt.gcf().set_size_inches(5,4)\n",
    "plt.savefig(\"correlation_timesteps.pdf\")\n"
   ]
  }
 ],
 "metadata": {
  "kernelspec": {
   "display_name": "Python 3",
   "language": "python",
   "name": "python3"
  },
  "language_info": {
   "codemirror_mode": {
    "name": "ipython",
    "version": 3
   },
   "file_extension": ".py",
   "mimetype": "text/x-python",
   "name": "python",
   "nbconvert_exporter": "python",
   "pygments_lexer": "ipython3",
   "version": "3.6.4"
  },
  "name": "PlotBasicStats-longterm.ipynb"
 },
 "nbformat": 4,
 "nbformat_minor": 2
}
