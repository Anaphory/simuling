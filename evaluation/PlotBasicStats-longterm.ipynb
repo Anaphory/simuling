{
 "cells": [
  {
   "cell_type": "code",
   "execution_count": 1,
   "metadata": {
    "autoscroll": "json-false",
    "collapsed": false,
    "ein.tags": [
     "worksheet-0"
    ],
    "slideshow": {
     "slide_type": "-"
    }
   },
   "outputs": [],
   "source": [
    "%matplotlib inline\n",
    "import matplotlib.pyplot as plt\n",
    "import pandas\n",
    "import numpy"
   ]
  },
  {
   "cell_type": "code",
   "execution_count": 2,
   "metadata": {
    "autoscroll": "json-false",
    "collapsed": false,
    "ein.tags": [
     "worksheet-0"
    ],
    "slideshow": {
     "slide_type": "-"
    }
   },
   "outputs": [],
   "source": [
    "def vocabulary_size(data, column=\"Global_CogID\"):\n",
    "    \"\"\"Count different words in vocabulary.\"\"\"\n",
    "    return len(set(data[column]))"
   ]
  },
  {
   "cell_type": "code",
   "execution_count": 3,
   "metadata": {
    "autoscroll": "json-false",
    "collapsed": false,
    "ein.tags": [
     "worksheet-0"
    ],
    "slideshow": {
     "slide_type": "-"
    }
   },
   "outputs": [],
   "source": [
    "def semantic_width(data, column=\"Global_CogID\"):\n",
    "    \"\"\"Calculate average synonym count.\n",
    "\n",
    "    Calculate the average weighted semantic width in the language\n",
    "    represented by data.\n",
    "\n",
    "    \"\"\"\n",
    "    width = 0\n",
    "    m = 0\n",
    "    for form, meanings in data.groupby(column):\n",
    "        width += meanings[\"Weight\"].sum()**2/(meanings[\"Weight\"]**2).sum()\n",
    "        m += 1\n",
    "    return width/m"
   ]
  },
  {
   "cell_type": "code",
   "execution_count": 4,
   "metadata": {
    "autoscroll": "json-false",
    "collapsed": false,
    "ein.tags": [
     "worksheet-0"
    ],
    "slideshow": {
     "slide_type": "-"
    }
   },
   "outputs": [],
   "source": [
    "def synonymity(data):\n",
    "    \"\"\"Calculate average synonym count.\n",
    "\n",
    "    Calculate the average weighted synonym count in the language\n",
    "    represented by data.\n",
    "\n",
    "    \"\"\"\n",
    "    return semantic_width(data, column=\"Feature_ID\")"
   ]
  },
  {
   "cell_type": "code",
   "execution_count": 5,
   "metadata": {
    "autoscroll": "json-false",
    "collapsed": true,
    "ein.tags": [
     "worksheet-0"
    ],
    "slideshow": {
     "slide_type": "-"
    }
   },
   "outputs": [],
   "source": [
    "clics_words = pandas.read_csv(\"/home/gereon/Downloads/words.csv\")\n",
    "clics_words[\"Weight\"] = 1\n",
    "\n",
    "clics_vocabulary = []\n",
    "clics_semantic_width = []\n",
    "clics_synonymity = []\n",
    "for language, words in clics_words.groupby(\"LanguageId\"):\n",
    "    clics_vocabulary.append(vocabulary_size(words, \"ClicsValue\"))\n",
    "    clics_semantic_width.append(semantic_width(words, \"ClicsValue\"))\n",
    "    clics_synonymity.append(semantic_width(words, \"ConcepticonGloss\"))"
   ]
  },
  {
   "cell_type": "code",
   "execution_count": 6,
   "metadata": {
    "autoscroll": "json-false",
    "collapsed": false,
    "ein.tags": [
     "worksheet-0"
    ],
    "slideshow": {
     "slide_type": "-"
    }
   },
   "outputs": [],
   "source": [
    "path = \"../\"\n",
    "steady_state = \"Q\"\n"
   ]
  },
  {
   "cell_type": "code",
   "execution_count": null,
   "metadata": {
    "autoscroll": "json-false",
    "collapsed": false,
    "ein.tags": [
     "worksheet-0"
    ],
    "scrolled": false,
    "slideshow": {
     "slide_type": "-"
    }
   },
   "outputs": [
    {
     "name": "stdout",
     "output_type": "stream",
     "text": [
      "Clics: 1317.4±805.2\n",
      "Simulation: 875.5±27.5\n"
     ]
    },
    {
     "data": {
      "image/png": "[encoded data removed]",
      "text/plain": [
       "<matplotlib.figure.Figure at 0x7efe81efbba8>"
      ]
     },
     "metadata": {},
     "output_type": "display_data"
    }
   ],
   "source": [
    "import os\n",
    "n = {}\n",
    "for file in os.listdir(path):\n",
    "    if file.startswith(\"trivial-long\") and file.endswith(\".tsv\"):\n",
    "        all_data = pandas.read_csv(\n",
    "            os.path.join(path, file),\n",
    "            sep=\"\\t\",\n",
    "            na_values=[\"\"],\n",
    "            keep_default_na=False,\n",
    "            encoding='utf-8')\n",
    "\n",
    "        for language_id, language_data in all_data.groupby(\"Language_ID\"):\n",
    "            n.setdefault(2**(ord(language_id)-63), []).append(vocabulary_size(language_data))\n",
    "\n",
    "plt.boxplot(list(n.values()), positions=list(n.keys()), widths=[i/2 for i in n.keys()], manage_xticks=False)\n",
    "\n",
    "plt.plot([1, 2*1048576], [1284, 1284], '0.8', label=\"Root #Words\")\n",
    "\n",
    "plt.xlabel(\"time steps $t$\")\n",
    "plt.gca().set_xscale('log')\n",
    "plt.ylabel(\"Vocabulary size\")\n",
    "print(\"Clics: {:0.1f}±{:0.1f}\".format(\n",
    "    numpy.mean(clics_vocabulary), numpy.std(clics_vocabulary)))\n",
    "print(\"Simulation: {:0.1f}±{:0.1f}\".format(numpy.mean(n[1048576]), numpy.std(n[1048576])))\n",
    "plt.gcf().set_size_inches(5,4)\n",
    "plt.savefig(\"vocabularysize_timesteps.pdf\")"
   ]
  },
  {
   "cell_type": "code",
   "execution_count": null,
   "metadata": {
    "autoscroll": "json-false",
    "collapsed": false,
    "ein.tags": [
     "worksheet-0"
    ],
    "scrolled": false,
    "slideshow": {
     "slide_type": "-"
    }
   },
   "outputs": [],
   "source": [
    "import os\n",
    "n = {}\n",
    "p = {}\n",
    "for file in os.listdir(path):\n",
    "    if file.startswith(\"trivial-long-branch\") and file.endswith(\".tsv\"):\n",
    "        all_data = pandas.read_csv(\n",
    "            os.path.join(path, file),\n",
    "            sep=\"\\t\",\n",
    "            na_values=[\"\"],\n",
    "            keep_default_na=False,\n",
    "            encoding='utf-8')\n",
    "\n",
    "        for language_id, language_data in all_data.groupby(\"Language_ID\"):\n",
    "            p.setdefault(2**(ord(language_id)-63), []).append(semantic_width(language_data))\n",
    "            n.setdefault(2**(ord(language_id)-63), []).append(synonymity(language_data))\n",
    "\n",
    "plt.boxplot(list(n.values()), positions=list(n.keys()), widths=[i/2 for i in n.keys()], manage_xticks=False)\n",
    "plt.boxplot(list(p.values()), positions=list(p.keys()), widths=[i/2 for i in p.keys()], manage_xticks=False,\n",
    "               boxprops=dict(color='blue'), medianprops=dict(color='red'))\n",
    "\n",
    "plt.plot([1, 2*1048576], [1, 1], '0.8')\n",
    "\n",
    "plt.plot([0,0],[1,1],c='red',label=\"Polysemy\")\n",
    "plt.plot([0,0],[1,1],c='orange',label=\"Synonymity\")\n",
    "plt.xlabel(\"time steps $t$\")\n",
    "plt.gca().set_xscale('log')\n",
    "plt.ylabel(\"Average Polysemy/Synonymity\")\n",
    "plt.ylim((0, 5))\n",
    "plt.legend()\n",
    "print(\"Clics: {:0.1f}±{:0.1f}\".format(\n",
    "    numpy.mean(clics_vocabulary), numpy.std(clics_vocabulary)))\n",
    "print(\"Simulation: {:0.1f}±{:0.1f}\".format(numpy.mean(n[1048576]), numpy.std(n[1048576])))\n",
    "plt.gcf().set_size_inches(5,4)\n",
    "plt.savefig(\"synonymitypolysemy_timesteps.pdf\")"
   ]
  }
 ],
 "metadata": {
  "kernelspec": {
   "display_name": "Python 3",
   "language": "python",
   "name": "python3"
  },
  "language_info": {
   "codemirror_mode": {
    "name": "ipython",
    "version": 3
   },
   "file_extension": ".py",
   "mimetype": "text/x-python",
   "name": "python",
   "nbconvert_exporter": "python",
   "pygments_lexer": "ipython3",
   "version": "3.6.0"
  },
  "name": "PlotBasicStats.ipynb"
 },
 "nbformat": 4,
 "nbformat_minor": 2
}
