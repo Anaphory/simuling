{
 "cells": [
  {
   "cell_type": "code",
   "execution_count": 7,
   "metadata": {
    "autoscroll": "json-false",
    "collapsed": false,
    "ein.tags": [
     "worksheet-0"
    ],
    "slideshow": {
     "slide_type": "-"
    }
   },
   "outputs": [],
   "source": [
    "%matplotlib inline\n",
    "import matplotlib.pyplot as plt\n",
    "import pandas\n",
    "import numpy"
   ]
  },
  {
   "cell_type": "code",
   "execution_count": 8,
   "metadata": {
    "autoscroll": "json-false",
    "collapsed": false,
    "ein.tags": [
     "worksheet-0"
    ],
    "slideshow": {
     "slide_type": "-"
    }
   },
   "outputs": [],
   "source": [
    "def vocabulary_size(data, column=\"Global_CogID\"):\n",
    "    \"\"\"Count different words in vocabulary.\"\"\"\n",
    "    return len(set(data[column]))"
   ]
  },
  {
   "cell_type": "code",
   "execution_count": 9,
   "metadata": {
    "autoscroll": "json-false",
    "collapsed": false,
    "ein.tags": [
     "worksheet-0"
    ],
    "slideshow": {
     "slide_type": "-"
    }
   },
   "outputs": [],
   "source": [
    "def semantic_width(data, column=\"Global_CogID\"):\n",
    "    \"\"\"Calculate average synonym count.\n",
    "\n",
    "    Calculate the average weighted semantic width in the language\n",
    "    represented by data.\n",
    "\n",
    "    \"\"\"\n",
    "    width = 0\n",
    "    m = 0\n",
    "    for form, meanings in data.groupby(column):\n",
    "        width += meanings[\"Weight\"].sum()**2/(meanings[\"Weight\"]**2).sum()\n",
    "        m += 1\n",
    "    return width/m"
   ]
  },
  {
   "cell_type": "code",
   "execution_count": 10,
   "metadata": {
    "autoscroll": "json-false",
    "collapsed": false,
    "ein.tags": [
     "worksheet-0"
    ],
    "slideshow": {
     "slide_type": "-"
    }
   },
   "outputs": [],
   "source": [
    "def synonymity(data):\n",
    "    \"\"\"Calculate average synonym count.\n",
    "\n",
    "    Calculate the average weighted synonym count in the language\n",
    "    represented by data.\n",
    "\n",
    "    \"\"\"\n",
    "    return semantic_width(data, column=\"Feature_ID\")"
   ]
  },
  {
   "cell_type": "code",
   "execution_count": 11,
   "metadata": {
    "autoscroll": "json-false",
    "collapsed": false,
    "ein.tags": [
     "worksheet-0"
    ],
    "slideshow": {
     "slide_type": "-"
    }
   },
   "outputs": [],
   "source": [
    "clics_words = pandas.read_csv(\"/home/gereon/Downloads/words.csv\")\n",
    "clics_words[\"Weight\"] = 1\n",
    "\n",
    "clics_vocabulary = []\n",
    "clics_semantic_width = []\n",
    "clics_synonymity = []\n",
    "for language, words in clics_words.groupby(\"LanguageId\"):\n",
    "    clics_vocabulary.append(vocabulary_size(words, \"ClicsValue\"))\n",
    "    clics_semantic_width.append(semantic_width(words, \"ClicsValue\"))\n",
    "    clics_synonymity.append(semantic_width(words, \"ConcepticonGloss\"))"
   ]
  },
  {
   "cell_type": "code",
   "execution_count": 27,
   "metadata": {
    "autoscroll": "json-false",
    "collapsed": false,
    "ein.tags": [
     "worksheet-0"
    ],
    "slideshow": {
     "slide_type": "-"
    }
   },
   "outputs": [],
   "source": [
    "path = \"..\"\n"
   ]
  },
  {
   "cell_type": "code",
   "execution_count": 28,
   "metadata": {
    "autoscroll": "json-false",
    "collapsed": false,
    "ein.tags": [
     "worksheet-0"
    ],
    "slideshow": {
     "slide_type": "-"
    }
   },
   "outputs": [
    {
     "data": {
      "image/png": "[encoded data removed]",
      "text/plain": [
       "<matplotlib.figure.Figure at 0x7f187b9c55f8>"
      ]
     },
     "metadata": {},
     "output_type": "display_data"
    },
    {
     "name": "stdout",
     "output_type": "stream",
     "text": [
      "Clics: 1317.4±805.2\n",
      "Simulation: 711.3±27.2\n"
     ]
    }
   ],
   "source": [
    "import os\n",
    "n = {}\n",
    "for file in os.listdir(path):\n",
    "    parts = file.split(\"-\")\n",
    "    if len(parts) == 5:\n",
    "        all_data = pandas.read_csv(\n",
    "            os.path.join(path, file),\n",
    "            sep=\"\\t\",\n",
    "            na_values=[\"\"],\n",
    "            keep_default_na=False,\n",
    "            encoding='utf-8')\n",
    "\n",
    "        p = float(parts[3])\n",
    "        for language_id, language_data in all_data.groupby(\"Language_ID\"):\n",
    "            if language_id >= \"T\":\n",
    "                n.setdefault(p, []).append(vocabulary_size(language_data))\n",
    "plt.boxplot([clics_vocabulary], positions=[-0.125], widths=0.05,\n",
    "            sym='', boxprops={\"color\": \"k\"}, whiskerprops={\"color\": \"k\"},\n",
    "            manage_xticks=False)\n",
    "\n",
    "plt.boxplot(list(n.values()), positions=list(n.keys()), widths=0.05, manage_xticks=False)\n",
    "\n",
    "plt.plot([0, 1], [1284, 1284], 'k:', label=\"Root #Words\")\n",
    "\n",
    "plt.xlim(-0.2, 1.1)\n",
    "plt.legend()\n",
    "\n",
    "print(\"Clics: {:0.1f}±{:0.1f}\".format(\n",
    "    numpy.mean(clics_vocabulary), numpy.std(clics_vocabulary)))\n",
    "print(\"Simulation: {:0.1f}±{:0.1f}\".format(numpy.mean(n[0]), numpy.std(n[0])))"
   ]
  },
  {
   "cell_type": "code",
   "execution_count": 29,
   "metadata": {
    "autoscroll": "json-false",
    "collapsed": false,
    "ein.tags": [
     "worksheet-0"
    ],
    "slideshow": {
     "slide_type": "-"
    }
   },
   "outputs": [
    {
     "data": {
      "image/png": "[encoded data removed]",
      "text/plain": [
       "<matplotlib.figure.Figure at 0x7f1880ad8c18>"
      ]
     },
     "metadata": {},
     "output_type": "display_data"
    },
    {
     "name": "stdout",
     "output_type": "stream",
     "text": [
      "Simulation: 6.5±0.2\n"
     ]
    }
   ],
   "source": [
    "import os\n",
    "n = {}\n",
    "for file in os.listdir(path):\n",
    "    parts = file.split(\"-\")\n",
    "    if len(parts) == 5:\n",
    "        all_data = pandas.read_csv(\n",
    "            os.path.join(path, file),\n",
    "            sep=\"\\t\",\n",
    "            na_values=[\"\"],\n",
    "            keep_default_na=False,\n",
    "            encoding='utf-8')\n",
    "\n",
    "        p = float(parts[3])\n",
    "        for language_id, language_data in all_data.groupby(\"Language_ID\"):\n",
    "            if language_id >= \"T\":\n",
    "                n.setdefault(p, []).append(semantic_width(language_data))\n",
    "plt.boxplot([clics_semantic_width], positions=[-0.125], widths=0.05,\n",
    "            sym='', boxprops={\"color\": \"k\"}, whiskerprops={\"color\": \"k\"},\n",
    "            manage_xticks=False)\n",
    "\n",
    "plt.boxplot(list(n.values()), positions=list(n.keys()), widths=0.05, manage_xticks=False)\n",
    "\n",
    "plt.plot([0,1], [1, 1], \"k:\", label=\"Sem Width\")\n",
    "plt.xlim(-0.2, 1.1)\n",
    "plt.legend()\n",
    "print(\"Simulation: {:0.1f}±{:0.1f}\".format(numpy.mean(n[0]), numpy.std(n[0])))"
   ]
  },
  {
   "cell_type": "code",
   "execution_count": 30,
   "metadata": {
    "autoscroll": "json-false",
    "collapsed": false,
    "ein.tags": [
     "worksheet-0"
    ],
    "slideshow": {
     "slide_type": "-"
    }
   },
   "outputs": [
    {
     "data": {
      "image/png": "[encoded data removed]",
      "text/plain": [
       "<matplotlib.figure.Figure at 0x7f187a3b40b8>"
      ]
     },
     "metadata": {},
     "output_type": "display_data"
    },
    {
     "name": "stdout",
     "output_type": "stream",
     "text": [
      "Simulation: 4.1±0.1\n"
     ]
    }
   ],
   "source": [
    "import os\n",
    "n = {}\n",
    "for file in os.listdir(path):\n",
    "    parts = file.split(\"-\")\n",
    "    if len(parts) == 5:\n",
    "        all_data = pandas.read_csv(\n",
    "            os.path.join(path, file),\n",
    "            sep=\"\\t\",\n",
    "            na_values=[\"\"],\n",
    "            keep_default_na=False,\n",
    "            encoding='utf-8')\n",
    "\n",
    "        p = float(parts[3])\n",
    "        for language_id, language_data in all_data.groupby(\"Language_ID\"):\n",
    "            if language_id >= \"T\":\n",
    "                n.setdefault(p, []).append(synonymity(language_data))\n",
    "plt.boxplot([clics_synonymity], positions=[-0.125], widths=0.05,\n",
    "            sym='', boxprops={\"color\": \"k\"}, whiskerprops={\"color\": \"k\"},\n",
    "            manage_xticks=False)\n",
    "\n",
    "plt.boxplot(list(n.values()), positions=list(n.keys()), widths=0.05, manage_xticks=False)\n",
    "\n",
    "plt.plot([0,1], [1, 1], \"k:\", label=\"Synonyms\")\n",
    "plt.xlim(-0.2, 1.1)\n",
    "plt.legend()\n",
    "print(\"Simulation: {:0.1f}±{:0.1f}\".format(numpy.mean(n[0]), numpy.std(n[0])))"
   ]
  },
  {
   "cell_type": "code",
   "execution_count": 0,
   "metadata": {
    "autoscroll": "json-false",
    "collapsed": false,
    "ein.tags": [
     "worksheet-0"
    ],
    "slideshow": {
     "slide_type": "-"
    }
   },
   "outputs": [],
   "source": []
  }
 ],
 "metadata": {
  "kernelspec": {
   "display_name": "Python 3",
   "name": "python3"
  },
  "language_info": {
   "codemirror_mode": {
    "name": "ipython",
    "version": 3
   },
   "file_extension": ".py",
   "mimetype": "text/x-python",
   "name": "python",
   "nbconvert_exporter": "python",
   "pygments_lexer": "ipython3",
   "version": "3.6.0"
  },
  "name": "PlotBasicStats.ipynb"
 },
 "nbformat": 4,
 "nbformat_minor": 2
}
