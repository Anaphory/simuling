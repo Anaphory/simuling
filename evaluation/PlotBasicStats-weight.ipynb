{
 "cells": [
  {
   "cell_type": "code",
   "execution_count": 27,
   "metadata": {
    "autoscroll": false,
    "collapsed": false,
    "ein.tags": "worksheet-0",
    "slideshow": {
     "slide_type": "-"
    }
   },
   "outputs": [],
   "source": [
    "%matplotlib inline\n",
    "import matplotlib.pyplot as plt\n",
    "import pandas\n",
    "import numpy"
   ]
  },
  {
   "cell_type": "code",
   "execution_count": 28,
   "metadata": {
    "autoscroll": false,
    "collapsed": false,
    "ein.tags": "worksheet-0",
    "slideshow": {
     "slide_type": "-"
    }
   },
   "outputs": [],
   "source": [
    "def vocabulary_size(data, column=\"Global_CogID\"):\n",
    "    \"\"\"Count different words in vocabulary.\"\"\"\n",
    "    return len(set(data[column]))"
   ]
  },
  {
   "cell_type": "code",
   "execution_count": 29,
   "metadata": {
    "autoscroll": false,
    "collapsed": false,
    "ein.tags": "worksheet-0",
    "slideshow": {
     "slide_type": "-"
    }
   },
   "outputs": [],
   "source": [
    "def semantic_width(data, column=\"Global_CogID\"):\n",
    "    \"\"\"Calculate average synonym count.\n",
    "\n",
    "    Calculate the average weighted semantic width in the language\n",
    "    represented by data.\n",
    "\n",
    "    \"\"\"\n",
    "    width = 0\n",
    "    m = 0\n",
    "    for form, meanings in data.groupby(column):\n",
    "        width += meanings[\"Weight\"].sum()**2/(meanings[\"Weight\"]**2).sum()\n",
    "        m += 1\n",
    "    return width/m"
   ]
  },
  {
   "cell_type": "code",
   "execution_count": 30,
   "metadata": {
    "autoscroll": false,
    "collapsed": false,
    "ein.tags": "worksheet-0",
    "slideshow": {
     "slide_type": "-"
    }
   },
   "outputs": [],
   "source": [
    "def synonymity(data):\n",
    "    \"\"\"Calculate average synonym count.\n",
    "\n",
    "    Calculate the average weighted synonym count in the language\n",
    "    represented by data.\n",
    "\n",
    "    \"\"\"\n",
    "    return semantic_width(data, column=\"Feature_ID\")"
   ]
  },
  {
   "cell_type": "code",
   "execution_count": 31,
   "metadata": {
    "autoscroll": false,
    "collapsed": false,
    "ein.tags": "worksheet-0",
    "slideshow": {
     "slide_type": "-"
    }
   },
   "outputs": [],
   "source": [
    "try:\n",
    "    clics_words = pandas.read_csv(\"words.csv\")\n",
    "except FileNotFoundError:\n",
    "    import urllib.request\n",
    "    data = urllib.request.urlopen(\n",
    "        \"https://github.com/clics/clics-data/blob/master/data/words.csv?raw=true\")\n",
    "    clics_words = pandas.read_csv(data)\n",
    "\n",
    "clics_words[\"Weight\"] = 1\n",
    "\n",
    "clics_vocabulary = []\n",
    "clics_semantic_width = []\n",
    "clics_synonymity = []\n",
    "for language, words in clics_words.groupby(\"LanguageId\"):\n",
    "    clics_vocabulary.append(vocabulary_size(words, \"ClicsValue\"))\n",
    "    clics_semantic_width.append(semantic_width(words, \"ClicsValue\"))\n",
    "    clics_synonymity.append(semantic_width(words, \"ConcepticonGloss\"))"
   ]
  },
  {
   "cell_type": "code",
   "execution_count": 32,
   "metadata": {
    "autoscroll": false,
    "collapsed": false,
    "ein.tags": "worksheet-0",
    "slideshow": {
     "slide_type": "-"
    }
   },
   "outputs": [],
   "source": [
    "path = \"../robustness\"\n"
   ]
  },
  {
   "cell_type": "code",
   "execution_count": 36,
   "metadata": {
    "autoscroll": false,
    "collapsed": false,
    "ein.tags": "worksheet-0",
    "scrolled": false,
    "slideshow": {
     "slide_type": "-"
    }
   },
   "outputs": [
    {
     "data": {
      "text/plain": [
       "<matplotlib.figure.Figure at 0x7fa112357cf8>"
      ]
     },
     "metadata": {},
     "output_type": "display_data"
    },
    {
     "name": "stdout",
     "output_type": "stream",
     "text": [
      "Clics: 1317.4±805.2\n"
     ]
    }
   ],
   "source": [
    "import os\n",
    "n = {}\n",
    "for file in os.listdir(path):\n",
    "    if file.startswith(\"trivial_long\") and file.endswith(\".tsv\") and \"_i\" in file and \"_n\" not in file:\n",
    "        all_data = pandas.read_csv(\n",
    "            os.path.join(path, file),\n",
    "            sep=\"\\t\",\n",
    "            na_values=[\"\"],\n",
    "            keep_default_na=False,\n",
    "            encoding='utf-8')\n",
    "\n",
    "        weight = file[file.find(\"_i\")+2:].split(\".\")[0]\n",
    "        for language_id, language_data in all_data.groupby(\"Language_ID\"):\n",
    "            if int(language_id) > 10**5:\n",
    "                n.setdefault(weight, []).append(vocabulary_size(language_data))\n",
    "\n",
    "plt.boxplot(list(n.values()), labels=list(n.keys()))\n",
    "\n",
    "plt.xlabel(\"Weight\")\n",
    "plt.ylabel(\"Vocabulary size\")\n",
    "print(\"Clics: {:0.1f}±{:0.1f}\".format(\n",
    "    numpy.mean(clics_vocabulary), numpy.std(clics_vocabulary)))\n",
    "plt.gcf().set_size_inches(5,4)\n",
    "plt.savefig(\"lexicon_size_starting_weight.pdf\")\n"
   ]
  },
  {
   "cell_type": "code",
   "execution_count": 37,
   "metadata": {
    "autoscroll": false,
    "collapsed": false,
    "ein.tags": "worksheet-0",
    "slideshow": {
     "slide_type": "-"
    }
   },
   "outputs": [
    {
     "data": {
      "text/plain": [
       "<matplotlib.figure.Figure at 0x7fa115d70048>"
      ]
     },
     "metadata": {},
     "output_type": "display_data"
    },
    {
     "name": "stdout",
     "output_type": "stream",
     "text": [
      "Clics: 1.4±1.0\n"
     ]
    }
   ],
   "source": [
    "import os\n",
    "n = {}\n",
    "for file in os.listdir(path):\n",
    "    if file.startswith(\"trivial_long\") and file.endswith(\".tsv\") and \"_i\" in file and \"_n\" not in file:\n",
    "        all_data = pandas.read_csv(\n",
    "            os.path.join(path, file),\n",
    "            sep=\"\\t\",\n",
    "            na_values=[\"\"],\n",
    "            keep_default_na=False,\n",
    "            encoding='utf-8')\n",
    "\n",
    "        weight = file[file.find(\"_i\")+2:].split(\".\")[0]\n",
    "        for language_id, language_data in all_data.groupby(\"Language_ID\"):\n",
    "            if int(language_id) > 10**5:\n",
    "                n.setdefault(weight, []).append(synonymity(language_data))\n",
    "\n",
    "plt.boxplot(list(n.values()), labels=list(n.keys()))\n",
    "\n",
    "plt.xlabel(\"Weight\")\n",
    "plt.ylabel(\"Synonym count\")\n",
    "print(\"Clics: {:0.1f}±{:0.1f}\".format(\n",
    "    numpy.mean(clics_synonymity), numpy.std(clics_synonymity)))\n",
    "plt.gcf().set_size_inches(5,4)\n",
    "plt.savefig(\"synonymity_size_starting_weight.pdf\")\n"
   ]
  },
  {
   "cell_type": "code",
   "execution_count": 38,
   "metadata": {
    "autoscroll": false,
    "collapsed": false,
    "ein.tags": "worksheet-0",
    "slideshow": {
     "slide_type": "-"
    }
   },
   "outputs": [
    {
     "data": {
      "text/plain": [
       "<matplotlib.figure.Figure at 0x7fa1447d3f60>"
      ]
     },
     "metadata": {},
     "output_type": "display_data"
    },
    {
     "name": "stdout",
     "output_type": "stream",
     "text": [
      "Clics: 1.2±0.1\n"
     ]
    }
   ],
   "source": [
    "import os\n",
    "n = {}\n",
    "for file in os.listdir(path):\n",
    "    if file.startswith(\"trivial_long\") and file.endswith(\".tsv\") and \"_i\" in file and \"_n\" not in file:\n",
    "        all_data = pandas.read_csv(\n",
    "            os.path.join(path, file),\n",
    "            sep=\"\\t\",\n",
    "            na_values=[\"\"],\n",
    "            keep_default_na=False,\n",
    "            encoding='utf-8')\n",
    "\n",
    "        weight = file[file.find(\"_i\")+2:].split(\".\")[0]\n",
    "        for language_id, language_data in all_data.groupby(\"Language_ID\"):\n",
    "            if int(language_id) > 10**5:\n",
    "                n.setdefault(weight, []).append(semantic_width(language_data))\n",
    "\n",
    "plt.boxplot(list(n.values()), labels=list(n.keys()))\n",
    "\n",
    "plt.xlabel(\"Weight\")\n",
    "plt.ylabel(\"Polysemy count\")\n",
    "print(\"Clics: {:0.1f}±{:0.1f}\".format(\n",
    "    numpy.mean(clics_semantic_width), numpy.std(clics_semantic_width)))\n",
    "plt.gcf().set_size_inches(5,4)\n",
    "plt.savefig(\"polysemy_size_starting_weight.pdf\")\n"
   ]
  },
  {
   "cell_type": "code",
   "execution_count": null,
   "metadata": {
    "autoscroll": false,
    "collapsed": false,
    "ein.tags": "worksheet-0",
    "slideshow": {
     "slide_type": "-"
    }
   },
   "outputs": [],
   "source": []
  }
 ],
 "metadata": {
  "kernelspec": {
   "display_name": "Python 3",
   "name": "python3"
  },
  "language_info": {
   "codemirror_mode": {
    "name": "ipython",
    "version": 3
   },
   "file_extension": ".py",
   "mimetype": "text/x-python",
   "name": "python",
   "nbconvert_exporter": "python",
   "pygments_lexer": "ipython3",
   "version": "3.6.0"
  },
  "name": "PlotBasicStats-weight.ipynb"
 },
 "nbformat": 4,
 "nbformat_minor": 2
}
