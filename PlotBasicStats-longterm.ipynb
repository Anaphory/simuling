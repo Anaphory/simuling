{
 "cells": [
  {
   "cell_type": "code",
   "execution_count": 1,
   "metadata": {
    "autoscroll": false,
    "ein.tags": "worksheet-0",
    "slideshow": {
     "slide_type": "-"
    }
   },
   "outputs": [],
   "source": [
    "%matplotlib inline\n",
    "import matplotlib.pyplot as plt\n",
    "import pandas\n",
    "import numpy"
   ]
  },
  {
   "cell_type": "code",
   "execution_count": 2,
   "metadata": {
    "autoscroll": false,
    "ein.tags": "worksheet-0",
    "slideshow": {
     "slide_type": "-"
    }
   },
   "outputs": [],
   "source": [
    "def vocabulary_size(data, column=\"Cognateset_ID\"):\n",
    "    \"\"\"Count different words in vocabulary.\"\"\"\n",
    "    return len(set(data[column]))"
   ]
  },
  {
   "cell_type": "code",
   "execution_count": 3,
   "metadata": {
    "autoscroll": false,
    "ein.tags": "worksheet-0",
    "slideshow": {
     "slide_type": "-"
    }
   },
   "outputs": [],
   "source": [
    "from reimplementation.analysis import semantic_width, synonymity, properties, default_properties"
   ]
  },
  {
   "cell_type": "code",
   "execution_count": 4,
   "metadata": {
    "autoscroll": false,
    "ein.tags": "worksheet-0",
    "slideshow": {
     "slide_type": "-"
    }
   },
   "outputs": [],
   "source": [
    "try:\n",
    "    clics_words = pandas.read_csv(\"words.csv\")\n",
    "except FileNotFoundError:\n",
    "    import urllib.request\n",
    "    data = urllib.request.urlopen(\n",
    "        \"https://github.com/clics/clics-data/blob/master/data/words.csv?raw=true\")\n",
    "    clics_words = pandas.read_csv(data)\n",
    "\n",
    "clics_words[\"Weight\"] = 1\n",
    "\n",
    "clics_vocabulary = []\n",
    "clics_semantic_width = []\n",
    "clics_synonymity = []\n",
    "for language, words in clics_words.groupby(\"LanguageId\"):\n",
    "    clics_vocabulary.append(vocabulary_size(words, \"ClicsValue\"))\n",
    "    clics_semantic_width.append(semantic_width(words, \"ClicsValue\"))\n",
    "    clics_synonymity.append(semantic_width(words, \"ConcepticonGloss\"))"
   ]
  },
  {
   "cell_type": "code",
   "execution_count": 5,
   "metadata": {
    "autoscroll": false,
    "ein.tags": "worksheet-0",
    "slideshow": {
     "slide_type": "-"
    }
   },
   "outputs": [],
   "source": [
    "from pathlib import Path\n",
    "path = Path(\"reimplementation\")"
   ]
  },
  {
   "cell_type": "code",
   "execution_count": 6,
   "metadata": {
    "autoscroll": false,
    "ein.tags": "worksheet-0",
    "scrolled": false,
    "slideshow": {
     "slide_type": "-"
    }
   },
   "outputs": [
    {
     "name": "stdout",
     "output_type": "stream",
     "text": [
      "{'--weight': '100', '--neighbor_factor': '0.004', '--weight_attribute': 'FamilyWeight', '--seed': '0', '--tree': '(((((((((((((((((((((1048576:524288)524288:262144)262144:131072)131072:65536)65536:32768)32768:16384)16384:8192)8192:4096)4096:2048)2048:1024)1024:512)512:256)256:128)128:64)64:32)32:16)16:8)8:4)4:2)2:1)1:1)0', '--branchlength': '20'} {'--weight': '100', '--neighbor_factor': '0.004', '--weight_attribute': 'FamilyWeight', '--concept_weight': 'square', '--seed': '0', '--tree': '(((((((((((((((((((((1048576:524288)524288:262144)262144:131072)131072:65536)65536:32768)32768:16384)16384:8192)8192:4096)4096:2048)2048:1024)1024:512)512:256)256:128)128:64)64:32)32:16)16:8)8:4)4:2)2:1)1:1)0', '--branchlength': '20'}\n",
      "{'--weight': '100', '--neighbor_factor': '0.004', '--weight_attribute': 'FamilyWeight', '--seed': '0', '--tree': '(((((((((((((((((((((1048576:524288)524288:262144)262144:131072)131072:65536)65536:32768)32768:16384)16384:8192)8192:4096)4096:2048)2048:1024)1024:512)512:256)256:128)128:64)64:32)32:16)16:8)8:4)4:2)2:1)1:1)0', '--branchlength': '20'} {'--weight': '100', '--neighbor_factor': '0.004', '--weight_attribute': 'FamilyWeight', '--concept_weight': 'square', '--seed': '0', '--tree': '(((((((((((((((((((((1048576:524288)524288:262144)262144:131072)131072:65536)65536:32768)32768:16384)16384:8192)8192:4096)4096:2048)2048:1024)1024:512)512:256)256:128)128:64)64:32)32:16)16:8)8:4)4:2)2:1)1:1)0', '--branchlength': '20'}\n",
      "{'--weight': '100', '--neighbor_factor': '0.004', '--weight_attribute': 'FamilyWeight', '--seed': '0', '--tree': '(((((((((((((((((((((1048576:524288)524288:262144)262144:131072)131072:65536)65536:32768)32768:16384)16384:8192)8192:4096)4096:2048)2048:1024)1024:512)512:256)256:128)128:64)64:32)32:16)16:8)8:4)4:2)2:1)1:1)0', '--branchlength': '20'} {'--weight': '100', '--neighbor_factor': '0.004', '--weight_attribute': 'FamilyWeight', '--concept_weight': 'square', '--seed': '0', '--tree': '(((((((((((((((((((((1048576:524288)524288:262144)262144:131072)131072:65536)65536:32768)32768:16384)16384:8192)8192:4096)4096:2048)2048:1024)1024:512)512:256)256:128)128:64)64:32)32:16)16:8)8:4)4:2)2:1)1:1)0', '--branchlength': '20'}\n"
     ]
    },
    {
     "ename": "ValueError",
     "evalue": "List of boxplot statistics and `positions` values must have same the length",
     "output_type": "error",
     "traceback": [
      "\u001b[0;31m---------------------------------------------------------------------------\u001b[0m",
      "\u001b[0;31mValueError\u001b[0m                                Traceback (most recent call last)",
      "\u001b[0;32m<ipython-input-6-6448f7548b38>\u001b[0m in \u001b[0;36m<module>\u001b[0;34m()\u001b[0m\n\u001b[1;32m     23\u001b[0m         \u001b[0mprint\u001b[0m\u001b[0;34m(\u001b[0m\u001b[0mprops\u001b[0m\u001b[0;34m,\u001b[0m \u001b[0mdefault_properties\u001b[0m\u001b[0;34m)\u001b[0m\u001b[0;34m\u001b[0m\u001b[0m\n\u001b[1;32m     24\u001b[0m \u001b[0;34m\u001b[0m\u001b[0m\n\u001b[0;32m---> 25\u001b[0;31m \u001b[0mplt\u001b[0m\u001b[0;34m.\u001b[0m\u001b[0mboxplot\u001b[0m\u001b[0;34m(\u001b[0m\u001b[0mlist\u001b[0m\u001b[0;34m(\u001b[0m\u001b[0mn\u001b[0m\u001b[0;34m.\u001b[0m\u001b[0mvalues\u001b[0m\u001b[0;34m(\u001b[0m\u001b[0;34m)\u001b[0m\u001b[0;34m)\u001b[0m\u001b[0;34m,\u001b[0m \u001b[0mpositions\u001b[0m\u001b[0;34m=\u001b[0m\u001b[0mlist\u001b[0m\u001b[0;34m(\u001b[0m\u001b[0mn\u001b[0m\u001b[0;34m.\u001b[0m\u001b[0mkeys\u001b[0m\u001b[0;34m(\u001b[0m\u001b[0;34m)\u001b[0m\u001b[0;34m)\u001b[0m\u001b[0;34m,\u001b[0m \u001b[0mwidths\u001b[0m\u001b[0;34m=\u001b[0m\u001b[0;34m[\u001b[0m\u001b[0mi\u001b[0m\u001b[0;34m/\u001b[0m\u001b[0;36m2\u001b[0m \u001b[0;32mfor\u001b[0m \u001b[0mi\u001b[0m \u001b[0;32min\u001b[0m \u001b[0mn\u001b[0m\u001b[0;34m.\u001b[0m\u001b[0mkeys\u001b[0m\u001b[0;34m(\u001b[0m\u001b[0;34m)\u001b[0m\u001b[0;34m]\u001b[0m\u001b[0;34m,\u001b[0m \u001b[0mmanage_xticks\u001b[0m\u001b[0;34m=\u001b[0m\u001b[0;32mFalse\u001b[0m\u001b[0;34m)\u001b[0m\u001b[0;34m\u001b[0m\u001b[0m\n\u001b[0m\u001b[1;32m     26\u001b[0m \u001b[0;34m\u001b[0m\u001b[0m\n\u001b[1;32m     27\u001b[0m \u001b[0mplt\u001b[0m\u001b[0;34m.\u001b[0m\u001b[0mplot\u001b[0m\u001b[0;34m(\u001b[0m\u001b[0;34m[\u001b[0m\u001b[0;36m1\u001b[0m\u001b[0;34m,\u001b[0m \u001b[0;36m2\u001b[0m\u001b[0;34m*\u001b[0m\u001b[0;36m1048576\u001b[0m\u001b[0;34m]\u001b[0m\u001b[0;34m,\u001b[0m \u001b[0;34m[\u001b[0m\u001b[0;36m1284\u001b[0m\u001b[0;34m,\u001b[0m \u001b[0;36m1284\u001b[0m\u001b[0;34m]\u001b[0m\u001b[0;34m,\u001b[0m \u001b[0;34m'0.8'\u001b[0m\u001b[0;34m,\u001b[0m \u001b[0mlabel\u001b[0m\u001b[0;34m=\u001b[0m\u001b[0;34m\"Root #Words\"\u001b[0m\u001b[0;34m)\u001b[0m\u001b[0;34m\u001b[0m\u001b[0m\n",
      "\u001b[0;32m/usr/lib/python3.6/site-packages/matplotlib/pyplot.py\u001b[0m in \u001b[0;36mboxplot\u001b[0;34m(x, notch, sym, vert, whis, positions, widths, patch_artist, bootstrap, usermedians, conf_intervals, meanline, showmeans, showcaps, showbox, showfliers, boxprops, labels, flierprops, medianprops, meanprops, capprops, whiskerprops, manage_xticks, autorange, zorder, hold, data)\u001b[0m\n\u001b[1;32m   2727\u001b[0m                          \u001b[0mwhiskerprops\u001b[0m\u001b[0;34m=\u001b[0m\u001b[0mwhiskerprops\u001b[0m\u001b[0;34m,\u001b[0m\u001b[0;34m\u001b[0m\u001b[0m\n\u001b[1;32m   2728\u001b[0m                          \u001b[0mmanage_xticks\u001b[0m\u001b[0;34m=\u001b[0m\u001b[0mmanage_xticks\u001b[0m\u001b[0;34m,\u001b[0m \u001b[0mautorange\u001b[0m\u001b[0;34m=\u001b[0m\u001b[0mautorange\u001b[0m\u001b[0;34m,\u001b[0m\u001b[0;34m\u001b[0m\u001b[0m\n\u001b[0;32m-> 2729\u001b[0;31m                          zorder=zorder, data=data)\n\u001b[0m\u001b[1;32m   2730\u001b[0m     \u001b[0;32mfinally\u001b[0m\u001b[0;34m:\u001b[0m\u001b[0;34m\u001b[0m\u001b[0m\n\u001b[1;32m   2731\u001b[0m         \u001b[0max\u001b[0m\u001b[0;34m.\u001b[0m\u001b[0m_hold\u001b[0m \u001b[0;34m=\u001b[0m \u001b[0mwashold\u001b[0m\u001b[0;34m\u001b[0m\u001b[0m\n",
      "\u001b[0;32m/usr/lib/python3.6/site-packages/matplotlib/__init__.py\u001b[0m in \u001b[0;36minner\u001b[0;34m(ax, *args, **kwargs)\u001b[0m\n\u001b[1;32m   1715\u001b[0m                     warnings.warn(msg % (label_namer, func.__name__),\n\u001b[1;32m   1716\u001b[0m                                   RuntimeWarning, stacklevel=2)\n\u001b[0;32m-> 1717\u001b[0;31m             \u001b[0;32mreturn\u001b[0m \u001b[0mfunc\u001b[0m\u001b[0;34m(\u001b[0m\u001b[0max\u001b[0m\u001b[0;34m,\u001b[0m \u001b[0;34m*\u001b[0m\u001b[0margs\u001b[0m\u001b[0;34m,\u001b[0m \u001b[0;34m**\u001b[0m\u001b[0mkwargs\u001b[0m\u001b[0;34m)\u001b[0m\u001b[0;34m\u001b[0m\u001b[0m\n\u001b[0m\u001b[1;32m   1718\u001b[0m         \u001b[0mpre_doc\u001b[0m \u001b[0;34m=\u001b[0m \u001b[0minner\u001b[0m\u001b[0;34m.\u001b[0m\u001b[0m__doc__\u001b[0m\u001b[0;34m\u001b[0m\u001b[0m\n\u001b[1;32m   1719\u001b[0m         \u001b[0;32mif\u001b[0m \u001b[0mpre_doc\u001b[0m \u001b[0;32mis\u001b[0m \u001b[0;32mNone\u001b[0m\u001b[0;34m:\u001b[0m\u001b[0;34m\u001b[0m\u001b[0m\n",
      "\u001b[0;32m/usr/lib/python3.6/site-packages/matplotlib/axes/_axes.py\u001b[0m in \u001b[0;36mboxplot\u001b[0;34m(self, x, notch, sym, vert, whis, positions, widths, patch_artist, bootstrap, usermedians, conf_intervals, meanline, showmeans, showcaps, showbox, showfliers, boxprops, labels, flierprops, medianprops, meanprops, capprops, whiskerprops, manage_xticks, autorange, zorder)\u001b[0m\n\u001b[1;32m   3379\u001b[0m                            \u001b[0mmeanline\u001b[0m\u001b[0;34m=\u001b[0m\u001b[0mmeanline\u001b[0m\u001b[0;34m,\u001b[0m \u001b[0mshowfliers\u001b[0m\u001b[0;34m=\u001b[0m\u001b[0mshowfliers\u001b[0m\u001b[0;34m,\u001b[0m\u001b[0;34m\u001b[0m\u001b[0m\n\u001b[1;32m   3380\u001b[0m                            \u001b[0mcapprops\u001b[0m\u001b[0;34m=\u001b[0m\u001b[0mcapprops\u001b[0m\u001b[0;34m,\u001b[0m \u001b[0mwhiskerprops\u001b[0m\u001b[0;34m=\u001b[0m\u001b[0mwhiskerprops\u001b[0m\u001b[0;34m,\u001b[0m\u001b[0;34m\u001b[0m\u001b[0m\n\u001b[0;32m-> 3381\u001b[0;31m                            manage_xticks=manage_xticks, zorder=zorder)\n\u001b[0m\u001b[1;32m   3382\u001b[0m         \u001b[0;32mreturn\u001b[0m \u001b[0martists\u001b[0m\u001b[0;34m\u001b[0m\u001b[0m\n\u001b[1;32m   3383\u001b[0m \u001b[0;34m\u001b[0m\u001b[0m\n",
      "\u001b[0;32m/usr/lib/python3.6/site-packages/matplotlib/axes/_axes.py\u001b[0m in \u001b[0;36mbxp\u001b[0;34m(self, bxpstats, positions, widths, vert, patch_artist, shownotches, showmeans, showcaps, showbox, showfliers, boxprops, whiskerprops, flierprops, medianprops, capprops, meanprops, meanline, manage_xticks, zorder)\u001b[0m\n\u001b[1;32m   3673\u001b[0m             \u001b[0mpositions\u001b[0m \u001b[0;34m=\u001b[0m \u001b[0mlist\u001b[0m\u001b[0;34m(\u001b[0m\u001b[0mxrange\u001b[0m\u001b[0;34m(\u001b[0m\u001b[0;36m1\u001b[0m\u001b[0;34m,\u001b[0m \u001b[0mN\u001b[0m \u001b[0;34m+\u001b[0m \u001b[0;36m1\u001b[0m\u001b[0;34m)\u001b[0m\u001b[0;34m)\u001b[0m\u001b[0;34m\u001b[0m\u001b[0m\n\u001b[1;32m   3674\u001b[0m         \u001b[0;32melif\u001b[0m \u001b[0mlen\u001b[0m\u001b[0;34m(\u001b[0m\u001b[0mpositions\u001b[0m\u001b[0;34m)\u001b[0m \u001b[0;34m!=\u001b[0m \u001b[0mN\u001b[0m\u001b[0;34m:\u001b[0m\u001b[0;34m\u001b[0m\u001b[0m\n\u001b[0;32m-> 3675\u001b[0;31m             \u001b[0;32mraise\u001b[0m \u001b[0mValueError\u001b[0m\u001b[0;34m(\u001b[0m\u001b[0mdatashape_message\u001b[0m\u001b[0;34m.\u001b[0m\u001b[0mformat\u001b[0m\u001b[0;34m(\u001b[0m\u001b[0;34m\"positions\"\u001b[0m\u001b[0;34m)\u001b[0m\u001b[0;34m)\u001b[0m\u001b[0;34m\u001b[0m\u001b[0m\n\u001b[0m\u001b[1;32m   3676\u001b[0m \u001b[0;34m\u001b[0m\u001b[0m\n\u001b[1;32m   3677\u001b[0m         \u001b[0;31m# width\u001b[0m\u001b[0;34m\u001b[0m\u001b[0;34m\u001b[0m\u001b[0m\n",
      "\u001b[0;31mValueError\u001b[0m: List of boxplot statistics and `positions` values must have same the length"
     ]
    },
    {
     "data": {
      "image/png": "[encoded data removed]",
      "text/plain": [
       "<matplotlib.figure.Figure at 0x7f13cd8eaf98>"
      ]
     },
     "metadata": {},
     "output_type": "display_data"
    }
   ],
   "source": [
    "import os\n",
    "n = {}\n",
    "for file in path.glob(\"*.csv\"):\n",
    "    props = properties(file)\n",
    "    if \",\" in props[\"--tree\"]:\n",
    "        continue\n",
    "    else:\n",
    "        props[\"--tree\"] = default_properties[\"--tree\"]\n",
    "        props[\"--branchlength\"] = default_properties[\"--branchlength\"]\n",
    "    props[\"--seed\"] = default_properties[\"--seed\"]\n",
    "    if props == default_properties:\n",
    "        all_data = pandas.read_csv(\n",
    "            file.open(),\n",
    "            sep=\",\",\n",
    "            na_values=[\"\"],\n",
    "            comment=\"#\",\n",
    "            keep_default_na=False,\n",
    "            encoding='utf-8')\n",
    "\n",
    "        for language_id, language_data in all_data.groupby(\"Language_ID\"):\n",
    "            n.setdefault(int(language_id), []).append(vocabulary_size(language_data))\n",
    "    else:\n",
    "        print(props, default_properties)\n",
    "\n",
    "plt.boxplot(list(n.values()), positions=list(n.keys()), widths=[i/2 for i in n.keys()], manage_xticks=False)\n",
    "\n",
    "plt.plot([1, 2*1048576], [1284, 1284], '0.8', label=\"Root #Words\")\n",
    "\n",
    "plt.xlabel(\"time steps $t$\")\n",
    "plt.gca().set_xscale('log')\n",
    "plt.ylabel(\"Vocabulary size\")\n",
    "print(\"Clics: {:0.1f}±{:0.1f}\".format(\n",
    "    numpy.mean(clics_vocabulary), numpy.std(clics_vocabulary)))\n",
    "stable = numpy.array(sum([n.get(2**i, []) for i in range(23, 27)], []))\n",
    "print(\"Simulation: {:0.1f}±{:0.1f}\".format(stable.mean(), stable.std()))\n",
    "plt.gcf().set_size_inches(5,4)\n",
    "plt.savefig(\"vocabularysize_timesteps.pdf\")\n"
   ]
  },
  {
   "cell_type": "code",
   "execution_count": null,
   "metadata": {
    "autoscroll": false,
    "ein.tags": "worksheet-0",
    "slideshow": {
     "slide_type": "-"
    }
   },
   "outputs": [],
   "source": [
    "n[2**22]"
   ]
  },
  {
   "cell_type": "code",
   "execution_count": null,
   "metadata": {
    "autoscroll": false,
    "ein.tags": "worksheet-0",
    "scrolled": false,
    "slideshow": {
     "slide_type": "-"
    }
   },
   "outputs": [],
   "source": [
    "import os\n",
    "n = {}\n",
    "c = {}\n",
    "p = {}\n",
    "for file in os.listdir(path):\n",
    "    if condition(file):\n",
    "        all_data = pandas.read_csv(\n",
    "            os.path.join(path, file),\n",
    "            sep=\",\",\n",
    "            na_values=[\"\"],\n",
    "            keep_default_na=False,\n",
    "            encoding='utf-8')\n",
    "\n",
    "        print(file)\n",
    "        for language_id, language_data in all_data.groupby(\"Language_ID\"):\n",
    "            n.setdefault(int(language_id), []).append(synonymity(language_data))\n",
    "            \n",
    "            sum_width = 0\n",
    "            m = 0\n",
    "            accs, widths = [], []\n",
    "            for form, meanings in language_data.groupby(\"Cognate_Set\"):\n",
    "                width = meanings[\"Weight\"].sum()**2/(meanings[\"Weight\"]**2).sum()\n",
    "                accs.append(meanings[\"Weight\"].sum())\n",
    "                widths.append(width)\n",
    "                sum_width += width\n",
    "                m += 1\n",
    "            c.setdefault(int(language_id), []).append(numpy.corrcoef(accs, widths)[1, 0])\n",
    "            p.setdefault(int(language_id), []).append(sum_width/m)\n",
    "\n",
    "plt.boxplot(list(n.values()), positions=list(n.keys()), widths=[i/2 for i in n.keys()], manage_xticks=False)\n",
    "plt.boxplot(list(p.values()), positions=list(p.keys()), widths=[i/2 for i in p.keys()], manage_xticks=False,\n",
    "               boxprops=dict(color='blue'), medianprops=dict(color='red'))\n",
    "\n",
    "plt.plot([1, 2*1048576], [1, 1], '0.8')\n",
    "\n",
    "plt.plot([0,0],[1,1],c='red',label=\"Polysemy\")\n",
    "plt.plot([0,0],[1,1],c='orange',label=\"Synonymity\")\n",
    "plt.xlabel(\"time steps $t$\")\n",
    "plt.gca().set_xscale('log')\n",
    "plt.ylabel(\"Average Polysemy/Synonymity\")\n",
    "plt.legend()\n",
    "print(\"Synonymity\")\n",
    "#print(\"Clics: {:0.1f}±{:0.1f}\".format(\n",
    "#    numpy.mean(clics_synonymity), numpy.std(clics_synonymity)))\n",
    "stable = numpy.array([n[2**i] for i in range(20, 22)])\n",
    "# print(\"Simulation: {:0.1f}±{:0.1f}\".format(stable.mean(), stable.std()))\n",
    "print(\"Polysemy\")\n",
    "# print(\"Clics: {:0.1f}±{:0.1f}\".format(\n",
    "#    numpy.mean(clics_semantic_width), numpy.std(clics_semantic_width)))\n",
    "stable = numpy.array([p[2**i] for i in range(20, 22)])\n",
    "#print(\"Simulation: {:0.1f}±{:0.1f}\".format(stable.mean(), stable.std()))\n",
    "plt.gcf().set_size_inches(5,4)\n",
    "plt.savefig(\"synonymitypolysemy_timesteps.pdf\")\n"
   ]
  },
  {
   "cell_type": "code",
   "execution_count": null,
   "metadata": {
    "autoscroll": false,
    "ein.tags": "worksheet-0",
    "scrolled": true,
    "slideshow": {
     "slide_type": "-"
    }
   },
   "outputs": [],
   "source": [
    "plt.boxplot(list(c.values()), positions=list(c.keys()), widths=[i/2 for i in c.keys()], manage_xticks=False)\n",
    "\n",
    "plt.xlabel(\"time steps $t$\")\n",
    "plt.gca().set_xscale('log')\n",
    "plt.ylabel(\"Correlation between semantic width and accessibility\")\n",
    "plt.legend()\n",
    "\n",
    "plt.gcf().set_size_inches(5,4)\n",
    "plt.savefig(\"correlation_timesteps.pdf\")\n"
   ]
  }
 ],
 "metadata": {
  "kernelspec": {
   "display_name": "Python 3",
   "language": "python",
   "name": "python3"
  },
  "language_info": {
   "codemirror_mode": {
    "name": "ipython",
    "version": 3
   },
   "file_extension": ".py",
   "mimetype": "text/x-python",
   "name": "python",
   "nbconvert_exporter": "python",
   "pygments_lexer": "ipython3",
   "version": "3.6.4"
  },
  "name": "PlotBasicStats-longterm.ipynb"
 },
 "nbformat": 4,
 "nbformat_minor": 2
}
