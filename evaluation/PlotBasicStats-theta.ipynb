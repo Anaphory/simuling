{
 "cells": [
  {
   "cell_type": "code",
   "execution_count": 47,
   "metadata": {
    "autoscroll": false,
    "ein.tags": "worksheet-0",
    "slideshow": {
     "slide_type": "-"
    }
   },
   "outputs": [
    {
     "name": "stdout",
     "output_type": "stream",
     "text": [
      "Modules to reload:\n",
      "plotter\n",
      "\n",
      "Modules to skip:\n",
      "\n"
     ]
    }
   ],
   "source": [
    "%matplotlib inline\n",
    "%reload_ext autoreload\n",
    "%autoreload 1\n",
    "%aimport plotter\n",
    "%aimport"
   ]
  },
  {
   "cell_type": "code",
   "execution_count": 48,
   "metadata": {
    "autoscroll": false,
    "ein.tags": "worksheet-0",
    "slideshow": {
     "slide_type": "-"
    }
   },
   "outputs": [],
   "source": [
    "import plotter\n",
    "from functools import partial as at\n",
    "import os\n",
    "import pandas\n",
    "import numpy"
   ]
  },
  {
   "cell_type": "code",
   "execution_count": 49,
   "metadata": {
    "autoscroll": false,
    "ein.tags": "worksheet-0",
    "scrolled": false,
    "slideshow": {
     "slide_type": "-"
    }
   },
   "outputs": [
    {
     "name": "stderr",
     "output_type": "stream",
     "text": [
      "/usr/lib/python3.6/site-packages/ipykernel_launcher.py:17: SettingWithCopyWarning: \n",
      "A value is trying to be set on a copy of a slice from a DataFrame\n",
      "\n",
      "See the caveats in the documentation: http://pandas.pydata.org/pandas-docs/stable/indexing.html#indexing-view-versus-copy\n"
     ]
    }
   ],
   "source": [
    "xaxis = \"Sampling threshold\"\n",
    "n, p, s = {}, {}, {}\n",
    "\n",
    "path = \"..\"\n",
    "\n",
    "for file in os.listdir(path):\n",
    "    weight = plotter.property_key(\"c\")(file)\n",
    "    if weight == \"degreesquared\":\n",
    "        all_data = pandas.read_csv(\n",
    "            os.path.join(path, file),\n",
    "            sep=\",\",\n",
    "            na_values=[\"\"],\n",
    "            keep_default_na=False,\n",
    "            encoding='utf-8')\n",
    "        for language_id, data in all_data.groupby(\"Language_ID\"):\n",
    "            if int(language_id) > 8e6:\n",
    "                data.sort_values(by=\"Weight\", inplace=True)\n",
    "                words = data.reset_index(drop=True)\n",
    "                best_words = words.groupby(\"Feature_ID\").last()[\"Weight\"]\n",
    "                words[\"compare_to\"] = (best_words[words[\"Feature_ID\"]].reset_index(drop=True))\n",
    "                words[\"relative_weight\"] = words[\"Weight\"] / words[\"compare_to\"]\n",
    "                above_threshold = words\n",
    "                for theta in range(0, 240, 20):\n",
    "                    above_threshold = above_threshold[above_threshold[\"Weight\"] > theta]\n",
    "                    \n",
    "                    n.setdefault(theta, []).append(\n",
    "                        len(set(above_threshold[\"Cognate_Set\"])))\n",
    "                    p.setdefault(theta, []).append(\n",
    "                        above_threshold.groupby(\"Feature_ID\")[\"Cognate_Set\"].count().mean())\n",
    "                    s.setdefault(theta, []).append(\n",
    "                        above_threshold.groupby(\"Cognate_Set\")[\"Feature_ID\"].count().mean())\n"
   ]
  },
  {
   "cell_type": "code",
   "execution_count": 50,
   "metadata": {
    "autoscroll": false,
    "ein.tags": "worksheet-0",
    "slideshow": {
     "slide_type": "-"
    }
   },
   "outputs": [
    {
     "name": "stdout",
     "output_type": "stream",
     "text": [
      "[0, 20, 40, 60, 80, 100, 120, 140, 160, 180, 200, 220]\n"
     ]
    }
   ],
   "source": [
    "labels = sorted(n.keys(), key=float)\n",
    "print(labels)"
   ]
  },
  {
   "cell_type": "code",
   "execution_count": 51,
   "metadata": {
    "scrolled": true
   },
   "outputs": [
    {
     "data": {
      "image/png": "[encoded data removed]",
      "text/plain": [
       "<matplotlib.figure.Figure at 0x7f503dbbe5f8>"
      ]
     },
     "metadata": {},
     "output_type": "display_data"
    }
   ],
   "source": [
    "from matplotlib import pyplot as plt\n",
    "words.sort_values(by=\"Weight\", ascending=False)[\"Weight\"].reset_index(drop=True).plot(loglog=True)\n",
    "plt.savefig(\"loglog_weight_rank.pdf\")\n"
   ]
  },
  {
   "cell_type": "code",
   "execution_count": 52,
   "metadata": {
    "autoscroll": false,
    "ein.tags": "worksheet-0",
    "slideshow": {
     "slide_type": "-"
    }
   },
   "outputs": [
    {
     "data": {
      "text/plain": [
       "{0: 1368.2777777777778,\n",
       " 20: 675.6111111111111,\n",
       " 40: 572.6666666666666,\n",
       " 60: 478.44444444444446,\n",
       " 80: 413.3888888888889,\n",
       " 100: 366.44444444444446,\n",
       " 120: 326.05555555555554,\n",
       " 140: 287.77777777777777,\n",
       " 160: 260.72222222222223,\n",
       " 180: 233.38888888888889,\n",
       " 200: 210.27777777777777,\n",
       " 220: 194.16666666666666}"
      ]
     },
     "execution_count": 52,
     "metadata": {},
     "output_type": "execute_result"
    },
    {
     "data": {
      "image/png": "[encoded data removed]",
      "text/plain": [
       "<matplotlib.figure.Figure at 0x7f503da34358>"
      ]
     },
     "metadata": {},
     "output_type": "display_data"
    }
   ],
   "source": [
    "plotter.plot_something(n, labels, xaxis, \"Vocabulary size\")\n",
    "{k: numpy.mean(v) for k, v in n.items()}"
   ]
  },
  {
   "cell_type": "code",
   "execution_count": 53,
   "metadata": {
    "autoscroll": false,
    "ein.tags": "worksheet-0",
    "scrolled": false,
    "slideshow": {
     "slide_type": "-"
    }
   },
   "outputs": [
    {
     "data": {
      "text/plain": [
       "{0: 4.238165876093829,\n",
       " 20: 1.7861000903291466,\n",
       " 40: 1.5790712462806438,\n",
       " 60: 1.4980562602393512,\n",
       " 80: 1.4469082061250624,\n",
       " 100: 1.411358347647468,\n",
       " 120: 1.3746273287569732,\n",
       " 140: 1.3575644628103785,\n",
       " 160: 1.342977571239793,\n",
       " 180: 1.3307951186055509,\n",
       " 200: 1.3255111018328094,\n",
       " 220: 1.3033162769590896}"
      ]
     },
     "execution_count": 53,
     "metadata": {},
     "output_type": "execute_result"
    },
    {
     "data": {
      "image/png": "[encoded data removed]",
      "text/plain": [
       "<matplotlib.figure.Figure at 0x7f503e1d9400>"
      ]
     },
     "metadata": {},
     "output_type": "display_data"
    }
   ],
   "source": [
    "plotter.plot_something(s, labels, xaxis, \"Synonym count\")\n",
    "{k: numpy.mean(v) for k, v in s.items()}"
   ]
  },
  {
   "cell_type": "code",
   "execution_count": 54,
   "metadata": {
    "autoscroll": false,
    "ein.tags": "worksheet-0",
    "scrolled": false,
    "slideshow": {
     "slide_type": "-"
    }
   },
   "outputs": [
    {
     "data": {
      "text/plain": [
       "{0: 3.8326814440177595,\n",
       " 20: 1.1630164918146664,\n",
       " 40: 1.0673594656854022,\n",
       " 60: 1.0345653313289205,\n",
       " 80: 1.0216052129939246,\n",
       " 100: 1.0138201997262373,\n",
       " 120: 1.0082368176242913,\n",
       " 140: 1.0045540849515608,\n",
       " 160: 1.0028313925402808,\n",
       " 180: 1.0019341276417368,\n",
       " 200: 1.0007888378185736,\n",
       " 220: 1.0}"
      ]
     },
     "execution_count": 54,
     "metadata": {},
     "output_type": "execute_result"
    },
    {
     "data": {
      "image/png": "[encoded data removed]",
      "text/plain": [
       "<matplotlib.figure.Figure at 0x7f503d4f4dd8>"
      ]
     },
     "metadata": {},
     "output_type": "display_data"
    }
   ],
   "source": [
    "plotter.plot_something(p, labels, xaxis, \"Polysemy count\")\n",
    "{k: numpy.mean(v) for k, v in pO.items()}"
   ]
  }
 ],
 "metadata": {
  "kernelspec": {
   "display_name": "Python 3",
   "language": "python",
   "name": "python3"
  },
  "language_info": {
   "codemirror_mode": {
    "name": "ipython",
    "version": 3
   },
   "file_extension": ".py",
   "mimetype": "text/x-python",
   "name": "python",
   "nbconvert_exporter": "python",
   "pygments_lexer": "ipython3",
   "version": "3.6.4"
  },
  "name": "PlotBasicStats-weight.ipynb"
 },
 "nbformat": 4,
 "nbformat_minor": 2
}
